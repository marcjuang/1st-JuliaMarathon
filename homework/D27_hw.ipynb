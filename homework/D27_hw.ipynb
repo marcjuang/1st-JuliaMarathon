{
 "cells": [
  {
   "cell_type": "markdown",
   "metadata": {},
   "source": [
    "# Julia 機器學習：GLM 線性迴歸\n",
    "\n",
    "## 作業 027：波士頓房價預測資料集\n",
    "\n",
    "請使用 GLM 中的模型，建立一個預測模型來預測波士頓的房價。"
   ]
  },
  {
   "cell_type": "code",
   "execution_count": 3,
   "metadata": {},
   "outputs": [
    {
     "name": "stderr",
     "output_type": "stream",
     "text": [
      "\u001b[32m\u001b[1m   Updating\u001b[22m\u001b[39m registry at `C:\\Users\\Marc Juang\\.julia\\registries\\General`\n"
     ]
    },
    {
     "name": "stdout",
     "output_type": "stream",
     "text": [
      "\u001b[?25l"
     ]
    },
    {
     "name": "stderr",
     "output_type": "stream",
     "text": [
      "\u001b[32m\u001b[1m   Updating\u001b[22m\u001b[39m git-repo `https://github.com/JuliaRegistries/General.git`\n"
     ]
    },
    {
     "name": "stdout",
     "output_type": "stream",
     "text": [
      "\u001b[2K\u001b[?25h"
     ]
    },
    {
     "name": "stderr",
     "output_type": "stream",
     "text": [
      "\u001b[32m\u001b[1m  Resolving\u001b[22m\u001b[39m package versions...\n",
      "\u001b[32m\u001b[1m  Installed\u001b[22m\u001b[39m MappedArrays ── v0.2.2\n",
      "\u001b[32m\u001b[1m  Installed\u001b[22m\u001b[39m LearnBase ───── v0.3.0\n",
      "\u001b[32m\u001b[1m  Installed\u001b[22m\u001b[39m MLLabelUtils ── v0.5.2\n",
      "\u001b[32m\u001b[1m  Installed\u001b[22m\u001b[39m MLDataUtils ─── v0.5.1\n",
      "\u001b[32m\u001b[1m  Installed\u001b[22m\u001b[39m MLDataPattern ─ v0.5.3\n",
      "\u001b[32m\u001b[1m   Updating\u001b[22m\u001b[39m `C:\\Users\\Marc Juang\\.julia\\environments\\v1.4\\Project.toml`\n",
      " \u001b[90m [cc2ba9b6]\u001b[39m\u001b[92m + MLDataUtils v0.5.1\u001b[39m\n",
      "\u001b[32m\u001b[1m   Updating\u001b[22m\u001b[39m `C:\\Users\\Marc Juang\\.julia\\environments\\v1.4\\Manifest.toml`\n",
      " \u001b[90m [7f8f8fb0]\u001b[39m\u001b[92m + LearnBase v0.3.0\u001b[39m\n",
      " \u001b[90m [9920b226]\u001b[39m\u001b[92m + MLDataPattern v0.5.3\u001b[39m\n",
      " \u001b[90m [cc2ba9b6]\u001b[39m\u001b[92m + MLDataUtils v0.5.1\u001b[39m\n",
      " \u001b[90m [66a33bbf]\u001b[39m\u001b[92m + MLLabelUtils v0.5.2\u001b[39m\n",
      " \u001b[90m [dbb5928d]\u001b[39m\u001b[92m + MappedArrays v0.2.2\u001b[39m\n"
     ]
    }
   ],
   "source": [
    "using Pkg\n",
    "Pkg.add(PackageSpec(name=\"MLDataUtils\"))"
   ]
  },
  {
   "cell_type": "code",
   "execution_count": 4,
   "metadata": {},
   "outputs": [
    {
     "name": "stderr",
     "output_type": "stream",
     "text": [
      "┌ Info: Precompiling MLDataUtils [cc2ba9b6-d476-5e6d-8eaf-a92d5412d41d]\n",
      "└ @ Base loading.jl:1260\n"
     ]
    }
   ],
   "source": [
    "using GLM, RDatasets, MLDataUtils"
   ]
  },
  {
   "cell_type": "markdown",
   "metadata": {},
   "source": [
    "## 讀取資料"
   ]
  },
  {
   "cell_type": "code",
   "execution_count": 2,
   "metadata": {},
   "outputs": [
    {
     "data": {
      "text/html": [
       "<table class=\"data-frame\"><thead><tr><th></th><th>Crim</th><th>Zn</th><th>Indus</th><th>Chas</th><th>NOx</th><th>Rm</th><th>Age</th><th>Dis</th><th>Rad</th><th>Tax</th></tr><tr><th></th><th>Float64</th><th>Float64</th><th>Float64</th><th>Int64</th><th>Float64</th><th>Float64</th><th>Float64</th><th>Float64</th><th>Int64</th><th>Int64</th></tr></thead><tbody><p>10 rows × 14 columns (omitted printing of 4 columns)</p><tr><th>1</th><td>0.00632</td><td>18.0</td><td>2.31</td><td>0</td><td>0.538</td><td>6.575</td><td>65.2</td><td>4.09</td><td>1</td><td>296</td></tr><tr><th>2</th><td>0.02731</td><td>0.0</td><td>7.07</td><td>0</td><td>0.469</td><td>6.421</td><td>78.9</td><td>4.9671</td><td>2</td><td>242</td></tr><tr><th>3</th><td>0.02729</td><td>0.0</td><td>7.07</td><td>0</td><td>0.469</td><td>7.185</td><td>61.1</td><td>4.9671</td><td>2</td><td>242</td></tr><tr><th>4</th><td>0.03237</td><td>0.0</td><td>2.18</td><td>0</td><td>0.458</td><td>6.998</td><td>45.8</td><td>6.0622</td><td>3</td><td>222</td></tr><tr><th>5</th><td>0.06905</td><td>0.0</td><td>2.18</td><td>0</td><td>0.458</td><td>7.147</td><td>54.2</td><td>6.0622</td><td>3</td><td>222</td></tr><tr><th>6</th><td>0.02985</td><td>0.0</td><td>2.18</td><td>0</td><td>0.458</td><td>6.43</td><td>58.7</td><td>6.0622</td><td>3</td><td>222</td></tr><tr><th>7</th><td>0.08829</td><td>12.5</td><td>7.87</td><td>0</td><td>0.524</td><td>6.012</td><td>66.6</td><td>5.5605</td><td>5</td><td>311</td></tr><tr><th>8</th><td>0.14455</td><td>12.5</td><td>7.87</td><td>0</td><td>0.524</td><td>6.172</td><td>96.1</td><td>5.9505</td><td>5</td><td>311</td></tr><tr><th>9</th><td>0.21124</td><td>12.5</td><td>7.87</td><td>0</td><td>0.524</td><td>5.631</td><td>100.0</td><td>6.0821</td><td>5</td><td>311</td></tr><tr><th>10</th><td>0.17004</td><td>12.5</td><td>7.87</td><td>0</td><td>0.524</td><td>6.004</td><td>85.9</td><td>6.5921</td><td>5</td><td>311</td></tr></tbody></table>"
      ],
      "text/latex": [
       "\\begin{tabular}{r|ccccccccccc}\n",
       "\t& Crim & Zn & Indus & Chas & NOx & Rm & Age & Dis & Rad & Tax & \\\\\n",
       "\t\\hline\n",
       "\t& Float64 & Float64 & Float64 & Int64 & Float64 & Float64 & Float64 & Float64 & Int64 & Int64 & \\\\\n",
       "\t\\hline\n",
       "\t1 & 0.00632 & 18.0 & 2.31 & 0 & 0.538 & 6.575 & 65.2 & 4.09 & 1 & 296 & $\\dots$ \\\\\n",
       "\t2 & 0.02731 & 0.0 & 7.07 & 0 & 0.469 & 6.421 & 78.9 & 4.9671 & 2 & 242 & $\\dots$ \\\\\n",
       "\t3 & 0.02729 & 0.0 & 7.07 & 0 & 0.469 & 7.185 & 61.1 & 4.9671 & 2 & 242 & $\\dots$ \\\\\n",
       "\t4 & 0.03237 & 0.0 & 2.18 & 0 & 0.458 & 6.998 & 45.8 & 6.0622 & 3 & 222 & $\\dots$ \\\\\n",
       "\t5 & 0.06905 & 0.0 & 2.18 & 0 & 0.458 & 7.147 & 54.2 & 6.0622 & 3 & 222 & $\\dots$ \\\\\n",
       "\t6 & 0.02985 & 0.0 & 2.18 & 0 & 0.458 & 6.43 & 58.7 & 6.0622 & 3 & 222 & $\\dots$ \\\\\n",
       "\t7 & 0.08829 & 12.5 & 7.87 & 0 & 0.524 & 6.012 & 66.6 & 5.5605 & 5 & 311 & $\\dots$ \\\\\n",
       "\t8 & 0.14455 & 12.5 & 7.87 & 0 & 0.524 & 6.172 & 96.1 & 5.9505 & 5 & 311 & $\\dots$ \\\\\n",
       "\t9 & 0.21124 & 12.5 & 7.87 & 0 & 0.524 & 5.631 & 100.0 & 6.0821 & 5 & 311 & $\\dots$ \\\\\n",
       "\t10 & 0.17004 & 12.5 & 7.87 & 0 & 0.524 & 6.004 & 85.9 & 6.5921 & 5 & 311 & $\\dots$ \\\\\n",
       "\\end{tabular}\n"
      ],
      "text/plain": [
       "10×14 DataFrame. Omitted printing of 7 columns\n",
       "│ Row │ Crim    │ Zn      │ Indus   │ Chas  │ NOx     │ Rm      │ Age     │\n",
       "│     │ \u001b[90mFloat64\u001b[39m │ \u001b[90mFloat64\u001b[39m │ \u001b[90mFloat64\u001b[39m │ \u001b[90mInt64\u001b[39m │ \u001b[90mFloat64\u001b[39m │ \u001b[90mFloat64\u001b[39m │ \u001b[90mFloat64\u001b[39m │\n",
       "├─────┼─────────┼─────────┼─────────┼───────┼─────────┼─────────┼─────────┤\n",
       "│ 1   │ 0.00632 │ 18.0    │ 2.31    │ 0     │ 0.538   │ 6.575   │ 65.2    │\n",
       "│ 2   │ 0.02731 │ 0.0     │ 7.07    │ 0     │ 0.469   │ 6.421   │ 78.9    │\n",
       "│ 3   │ 0.02729 │ 0.0     │ 7.07    │ 0     │ 0.469   │ 7.185   │ 61.1    │\n",
       "│ 4   │ 0.03237 │ 0.0     │ 2.18    │ 0     │ 0.458   │ 6.998   │ 45.8    │\n",
       "│ 5   │ 0.06905 │ 0.0     │ 2.18    │ 0     │ 0.458   │ 7.147   │ 54.2    │\n",
       "│ 6   │ 0.02985 │ 0.0     │ 2.18    │ 0     │ 0.458   │ 6.43    │ 58.7    │\n",
       "│ 7   │ 0.08829 │ 12.5    │ 7.87    │ 0     │ 0.524   │ 6.012   │ 66.6    │\n",
       "│ 8   │ 0.14455 │ 12.5    │ 7.87    │ 0     │ 0.524   │ 6.172   │ 96.1    │\n",
       "│ 9   │ 0.21124 │ 12.5    │ 7.87    │ 0     │ 0.524   │ 5.631   │ 100.0   │\n",
       "│ 10  │ 0.17004 │ 12.5    │ 7.87    │ 0     │ 0.524   │ 6.004   │ 85.9    │"
      ]
     },
     "execution_count": 2,
     "metadata": {},
     "output_type": "execute_result"
    }
   ],
   "source": [
    "boston = dataset(\"MASS\", \"Boston\")\n",
    "first(boston, 10)"
   ]
  },
  {
   "cell_type": "code",
   "execution_count": 5,
   "metadata": {},
   "outputs": [
    {
     "data": {
      "text/plain": [
       "506-element Array{Float64,1}:\n",
       " 3.1780538303479458\n",
       " 3.0726933146901194\n",
       " 3.5467396869528134\n",
       " 3.5085558999826545\n",
       " 3.5890591188317256\n",
       " 3.3568971227655755\n",
       " 3.131136910560194\n",
       " 3.299533727885655\n",
       " 2.803360380906535\n",
       " 2.9391619220655967\n",
       " 2.70805020110221\n",
       " 2.9391619220655967\n",
       " 3.077312260546414\n",
       " ⋮\n",
       " 3.1986731175506815\n",
       " 3.139832617527748\n",
       " 2.9806186357439426\n",
       " 2.9069010598473755\n",
       " 3.054001181677967\n",
       " 2.8622008809294686\n",
       " 2.8213788864092133\n",
       " 3.109060958860994\n",
       " 3.0252910757955354\n",
       " 3.173878458937465\n",
       " 3.091042453358316\n",
       " 2.4765384001174837"
      ]
     },
     "execution_count": 5,
     "metadata": {},
     "output_type": "execute_result"
    }
   ],
   "source": [
    "boston[!, :LogMedV] = log.(boston[!, :MedV])"
   ]
  },
  {
   "cell_type": "code",
   "execution_count": 6,
   "metadata": {},
   "outputs": [],
   "source": [
    "indecies = MLDataUtils.shuffleobs(collect(1:nrow(boston)))\n",
    "train_ind, test_ind = MLDataUtils.splitobs(indecies, at = 0.8);"
   ]
  },
  {
   "cell_type": "code",
   "execution_count": 7,
   "metadata": {},
   "outputs": [
    {
     "data": {
      "text/html": [
       "<table class=\"data-frame\"><thead><tr><th></th><th>Crim</th><th>Zn</th><th>Indus</th><th>Chas</th><th>NOx</th><th>Rm</th><th>Age</th><th>Dis</th><th>Rad</th><th>Tax</th></tr><tr><th></th><th>Float64</th><th>Float64</th><th>Float64</th><th>Int64</th><th>Float64</th><th>Float64</th><th>Float64</th><th>Float64</th><th>Int64</th><th>Int64</th></tr></thead><tbody><p>101 rows × 15 columns (omitted printing of 5 columns)</p><tr><th>1</th><td>0.07244</td><td>60.0</td><td>1.69</td><td>0</td><td>0.411</td><td>5.884</td><td>18.5</td><td>10.7103</td><td>4</td><td>411</td></tr><tr><th>2</th><td>9.96654</td><td>0.0</td><td>18.1</td><td>0</td><td>0.74</td><td>6.485</td><td>100.0</td><td>1.9784</td><td>24</td><td>666</td></tr><tr><th>3</th><td>9.72418</td><td>0.0</td><td>18.1</td><td>0</td><td>0.74</td><td>6.406</td><td>97.2</td><td>2.0651</td><td>24</td><td>666</td></tr><tr><th>4</th><td>0.57529</td><td>0.0</td><td>6.2</td><td>0</td><td>0.507</td><td>8.337</td><td>73.3</td><td>3.8384</td><td>8</td><td>307</td></tr><tr><th>5</th><td>0.13914</td><td>0.0</td><td>4.05</td><td>0</td><td>0.51</td><td>5.572</td><td>88.5</td><td>2.5961</td><td>5</td><td>296</td></tr><tr><th>6</th><td>0.1396</td><td>0.0</td><td>8.56</td><td>0</td><td>0.52</td><td>6.167</td><td>90.0</td><td>2.421</td><td>5</td><td>384</td></tr><tr><th>7</th><td>0.19539</td><td>0.0</td><td>10.81</td><td>0</td><td>0.413</td><td>6.245</td><td>6.2</td><td>5.2873</td><td>4</td><td>305</td></tr><tr><th>8</th><td>0.30347</td><td>0.0</td><td>7.38</td><td>0</td><td>0.493</td><td>6.312</td><td>28.9</td><td>5.4159</td><td>5</td><td>287</td></tr><tr><th>9</th><td>0.13642</td><td>0.0</td><td>10.59</td><td>0</td><td>0.489</td><td>5.891</td><td>22.3</td><td>3.9454</td><td>4</td><td>277</td></tr><tr><th>10</th><td>0.54011</td><td>20.0</td><td>3.97</td><td>0</td><td>0.647</td><td>7.203</td><td>81.8</td><td>2.1121</td><td>5</td><td>264</td></tr><tr><th>11</th><td>0.01965</td><td>80.0</td><td>1.76</td><td>0</td><td>0.385</td><td>6.23</td><td>31.5</td><td>9.0892</td><td>1</td><td>241</td></tr><tr><th>12</th><td>0.1</td><td>34.0</td><td>6.09</td><td>0</td><td>0.433</td><td>6.982</td><td>17.7</td><td>5.4917</td><td>7</td><td>329</td></tr><tr><th>13</th><td>0.21124</td><td>12.5</td><td>7.87</td><td>0</td><td>0.524</td><td>5.631</td><td>100.0</td><td>6.0821</td><td>5</td><td>311</td></tr><tr><th>14</th><td>0.0686</td><td>0.0</td><td>2.89</td><td>0</td><td>0.445</td><td>7.416</td><td>62.5</td><td>3.4952</td><td>2</td><td>276</td></tr><tr><th>15</th><td>0.09378</td><td>12.5</td><td>7.87</td><td>0</td><td>0.524</td><td>5.889</td><td>39.0</td><td>5.4509</td><td>5</td><td>311</td></tr><tr><th>16</th><td>24.8017</td><td>0.0</td><td>18.1</td><td>0</td><td>0.693</td><td>5.349</td><td>96.0</td><td>1.7028</td><td>24</td><td>666</td></tr><tr><th>17</th><td>0.51183</td><td>0.0</td><td>6.2</td><td>0</td><td>0.507</td><td>7.358</td><td>71.6</td><td>4.148</td><td>8</td><td>307</td></tr><tr><th>18</th><td>0.14455</td><td>12.5</td><td>7.87</td><td>0</td><td>0.524</td><td>6.172</td><td>96.1</td><td>5.9505</td><td>5</td><td>311</td></tr><tr><th>19</th><td>4.0974</td><td>0.0</td><td>19.58</td><td>0</td><td>0.871</td><td>5.468</td><td>100.0</td><td>1.4118</td><td>5</td><td>403</td></tr><tr><th>20</th><td>24.3938</td><td>0.0</td><td>18.1</td><td>0</td><td>0.7</td><td>4.652</td><td>100.0</td><td>1.4672</td><td>24</td><td>666</td></tr><tr><th>21</th><td>0.22969</td><td>0.0</td><td>10.59</td><td>0</td><td>0.489</td><td>6.326</td><td>52.5</td><td>4.3549</td><td>4</td><td>277</td></tr><tr><th>22</th><td>14.4208</td><td>0.0</td><td>18.1</td><td>0</td><td>0.74</td><td>6.461</td><td>93.3</td><td>2.0026</td><td>24</td><td>666</td></tr><tr><th>23</th><td>1.41385</td><td>0.0</td><td>19.58</td><td>1</td><td>0.871</td><td>6.129</td><td>96.0</td><td>1.7494</td><td>5</td><td>403</td></tr><tr><th>24</th><td>0.43571</td><td>0.0</td><td>10.59</td><td>1</td><td>0.489</td><td>5.344</td><td>100.0</td><td>3.875</td><td>4</td><td>277</td></tr><tr><th>25</th><td>10.6718</td><td>0.0</td><td>18.1</td><td>0</td><td>0.74</td><td>6.459</td><td>94.8</td><td>1.9879</td><td>24</td><td>666</td></tr><tr><th>26</th><td>6.71772</td><td>0.0</td><td>18.1</td><td>0</td><td>0.713</td><td>6.749</td><td>92.6</td><td>2.3236</td><td>24</td><td>666</td></tr><tr><th>27</th><td>8.64476</td><td>0.0</td><td>18.1</td><td>0</td><td>0.693</td><td>6.193</td><td>92.6</td><td>1.7912</td><td>24</td><td>666</td></tr><tr><th>28</th><td>0.09065</td><td>20.0</td><td>6.96</td><td>1</td><td>0.464</td><td>5.92</td><td>61.5</td><td>3.9175</td><td>3</td><td>223</td></tr><tr><th>29</th><td>0.19133</td><td>22.0</td><td>5.86</td><td>0</td><td>0.431</td><td>5.605</td><td>70.2</td><td>7.9549</td><td>7</td><td>330</td></tr><tr><th>30</th><td>0.03502</td><td>80.0</td><td>4.95</td><td>0</td><td>0.411</td><td>6.861</td><td>27.9</td><td>5.1167</td><td>4</td><td>245</td></tr><tr><th>&vellip;</th><td>&vellip;</td><td>&vellip;</td><td>&vellip;</td><td>&vellip;</td><td>&vellip;</td><td>&vellip;</td><td>&vellip;</td><td>&vellip;</td><td>&vellip;</td><td>&vellip;</td></tr></tbody></table>"
      ],
      "text/latex": [
       "\\begin{tabular}{r|ccccccccccc}\n",
       "\t& Crim & Zn & Indus & Chas & NOx & Rm & Age & Dis & Rad & Tax & \\\\\n",
       "\t\\hline\n",
       "\t& Float64 & Float64 & Float64 & Int64 & Float64 & Float64 & Float64 & Float64 & Int64 & Int64 & \\\\\n",
       "\t\\hline\n",
       "\t1 & 0.07244 & 60.0 & 1.69 & 0 & 0.411 & 5.884 & 18.5 & 10.7103 & 4 & 411 & $\\dots$ \\\\\n",
       "\t2 & 9.96654 & 0.0 & 18.1 & 0 & 0.74 & 6.485 & 100.0 & 1.9784 & 24 & 666 & $\\dots$ \\\\\n",
       "\t3 & 9.72418 & 0.0 & 18.1 & 0 & 0.74 & 6.406 & 97.2 & 2.0651 & 24 & 666 & $\\dots$ \\\\\n",
       "\t4 & 0.57529 & 0.0 & 6.2 & 0 & 0.507 & 8.337 & 73.3 & 3.8384 & 8 & 307 & $\\dots$ \\\\\n",
       "\t5 & 0.13914 & 0.0 & 4.05 & 0 & 0.51 & 5.572 & 88.5 & 2.5961 & 5 & 296 & $\\dots$ \\\\\n",
       "\t6 & 0.1396 & 0.0 & 8.56 & 0 & 0.52 & 6.167 & 90.0 & 2.421 & 5 & 384 & $\\dots$ \\\\\n",
       "\t7 & 0.19539 & 0.0 & 10.81 & 0 & 0.413 & 6.245 & 6.2 & 5.2873 & 4 & 305 & $\\dots$ \\\\\n",
       "\t8 & 0.30347 & 0.0 & 7.38 & 0 & 0.493 & 6.312 & 28.9 & 5.4159 & 5 & 287 & $\\dots$ \\\\\n",
       "\t9 & 0.13642 & 0.0 & 10.59 & 0 & 0.489 & 5.891 & 22.3 & 3.9454 & 4 & 277 & $\\dots$ \\\\\n",
       "\t10 & 0.54011 & 20.0 & 3.97 & 0 & 0.647 & 7.203 & 81.8 & 2.1121 & 5 & 264 & $\\dots$ \\\\\n",
       "\t11 & 0.01965 & 80.0 & 1.76 & 0 & 0.385 & 6.23 & 31.5 & 9.0892 & 1 & 241 & $\\dots$ \\\\\n",
       "\t12 & 0.1 & 34.0 & 6.09 & 0 & 0.433 & 6.982 & 17.7 & 5.4917 & 7 & 329 & $\\dots$ \\\\\n",
       "\t13 & 0.21124 & 12.5 & 7.87 & 0 & 0.524 & 5.631 & 100.0 & 6.0821 & 5 & 311 & $\\dots$ \\\\\n",
       "\t14 & 0.0686 & 0.0 & 2.89 & 0 & 0.445 & 7.416 & 62.5 & 3.4952 & 2 & 276 & $\\dots$ \\\\\n",
       "\t15 & 0.09378 & 12.5 & 7.87 & 0 & 0.524 & 5.889 & 39.0 & 5.4509 & 5 & 311 & $\\dots$ \\\\\n",
       "\t16 & 24.8017 & 0.0 & 18.1 & 0 & 0.693 & 5.349 & 96.0 & 1.7028 & 24 & 666 & $\\dots$ \\\\\n",
       "\t17 & 0.51183 & 0.0 & 6.2 & 0 & 0.507 & 7.358 & 71.6 & 4.148 & 8 & 307 & $\\dots$ \\\\\n",
       "\t18 & 0.14455 & 12.5 & 7.87 & 0 & 0.524 & 6.172 & 96.1 & 5.9505 & 5 & 311 & $\\dots$ \\\\\n",
       "\t19 & 4.0974 & 0.0 & 19.58 & 0 & 0.871 & 5.468 & 100.0 & 1.4118 & 5 & 403 & $\\dots$ \\\\\n",
       "\t20 & 24.3938 & 0.0 & 18.1 & 0 & 0.7 & 4.652 & 100.0 & 1.4672 & 24 & 666 & $\\dots$ \\\\\n",
       "\t21 & 0.22969 & 0.0 & 10.59 & 0 & 0.489 & 6.326 & 52.5 & 4.3549 & 4 & 277 & $\\dots$ \\\\\n",
       "\t22 & 14.4208 & 0.0 & 18.1 & 0 & 0.74 & 6.461 & 93.3 & 2.0026 & 24 & 666 & $\\dots$ \\\\\n",
       "\t23 & 1.41385 & 0.0 & 19.58 & 1 & 0.871 & 6.129 & 96.0 & 1.7494 & 5 & 403 & $\\dots$ \\\\\n",
       "\t24 & 0.43571 & 0.0 & 10.59 & 1 & 0.489 & 5.344 & 100.0 & 3.875 & 4 & 277 & $\\dots$ \\\\\n",
       "\t25 & 10.6718 & 0.0 & 18.1 & 0 & 0.74 & 6.459 & 94.8 & 1.9879 & 24 & 666 & $\\dots$ \\\\\n",
       "\t26 & 6.71772 & 0.0 & 18.1 & 0 & 0.713 & 6.749 & 92.6 & 2.3236 & 24 & 666 & $\\dots$ \\\\\n",
       "\t27 & 8.64476 & 0.0 & 18.1 & 0 & 0.693 & 6.193 & 92.6 & 1.7912 & 24 & 666 & $\\dots$ \\\\\n",
       "\t28 & 0.09065 & 20.0 & 6.96 & 1 & 0.464 & 5.92 & 61.5 & 3.9175 & 3 & 223 & $\\dots$ \\\\\n",
       "\t29 & 0.19133 & 22.0 & 5.86 & 0 & 0.431 & 5.605 & 70.2 & 7.9549 & 7 & 330 & $\\dots$ \\\\\n",
       "\t30 & 0.03502 & 80.0 & 4.95 & 0 & 0.411 & 6.861 & 27.9 & 5.1167 & 4 & 245 & $\\dots$ \\\\\n",
       "\t$\\dots$ & $\\dots$ & $\\dots$ & $\\dots$ & $\\dots$ & $\\dots$ & $\\dots$ & $\\dots$ & $\\dots$ & $\\dots$ & $\\dots$ &  \\\\\n",
       "\\end{tabular}\n"
      ],
      "text/plain": [
       "101×15 DataFrame. Omitted printing of 8 columns\n",
       "│ Row │ Crim    │ Zn      │ Indus   │ Chas  │ NOx     │ Rm      │ Age     │\n",
       "│     │ \u001b[90mFloat64\u001b[39m │ \u001b[90mFloat64\u001b[39m │ \u001b[90mFloat64\u001b[39m │ \u001b[90mInt64\u001b[39m │ \u001b[90mFloat64\u001b[39m │ \u001b[90mFloat64\u001b[39m │ \u001b[90mFloat64\u001b[39m │\n",
       "├─────┼─────────┼─────────┼─────────┼───────┼─────────┼─────────┼─────────┤\n",
       "│ 1   │ 0.07244 │ 60.0    │ 1.69    │ 0     │ 0.411   │ 5.884   │ 18.5    │\n",
       "│ 2   │ 9.96654 │ 0.0     │ 18.1    │ 0     │ 0.74    │ 6.485   │ 100.0   │\n",
       "│ 3   │ 9.72418 │ 0.0     │ 18.1    │ 0     │ 0.74    │ 6.406   │ 97.2    │\n",
       "│ 4   │ 0.57529 │ 0.0     │ 6.2     │ 0     │ 0.507   │ 8.337   │ 73.3    │\n",
       "│ 5   │ 0.13914 │ 0.0     │ 4.05    │ 0     │ 0.51    │ 5.572   │ 88.5    │\n",
       "│ 6   │ 0.1396  │ 0.0     │ 8.56    │ 0     │ 0.52    │ 6.167   │ 90.0    │\n",
       "│ 7   │ 0.19539 │ 0.0     │ 10.81   │ 0     │ 0.413   │ 6.245   │ 6.2     │\n",
       "│ 8   │ 0.30347 │ 0.0     │ 7.38    │ 0     │ 0.493   │ 6.312   │ 28.9    │\n",
       "│ 9   │ 0.13642 │ 0.0     │ 10.59   │ 0     │ 0.489   │ 5.891   │ 22.3    │\n",
       "│ 10  │ 0.54011 │ 20.0    │ 3.97    │ 0     │ 0.647   │ 7.203   │ 81.8    │\n",
       "⋮\n",
       "│ 91  │ 0.17783 │ 0.0     │ 9.69    │ 0     │ 0.585   │ 5.569   │ 73.5    │\n",
       "│ 92  │ 0.5405  │ 20.0    │ 3.97    │ 0     │ 0.575   │ 7.47    │ 52.6    │\n",
       "│ 93  │ 0.13058 │ 0.0     │ 10.01   │ 0     │ 0.547   │ 5.872   │ 73.1    │\n",
       "│ 94  │ 0.0315  │ 95.0    │ 1.47    │ 0     │ 0.403   │ 6.975   │ 15.3    │\n",
       "│ 95  │ 7.52601 │ 0.0     │ 18.1    │ 0     │ 0.713   │ 6.417   │ 98.3    │\n",
       "│ 96  │ 0.05372 │ 0.0     │ 13.92   │ 0     │ 0.437   │ 6.549   │ 51.0    │\n",
       "│ 97  │ 25.0461 │ 0.0     │ 18.1    │ 0     │ 0.693   │ 5.987   │ 100.0   │\n",
       "│ 98  │ 1.42502 │ 0.0     │ 19.58   │ 0     │ 0.871   │ 6.51    │ 100.0   │\n",
       "│ 99  │ 0.26169 │ 0.0     │ 9.9     │ 0     │ 0.544   │ 6.023   │ 90.4    │\n",
       "│ 100 │ 4.55587 │ 0.0     │ 18.1    │ 0     │ 0.718   │ 3.561   │ 87.9    │\n",
       "│ 101 │ 1.61282 │ 0.0     │ 8.14    │ 0     │ 0.538   │ 6.096   │ 96.9    │"
      ]
     },
     "execution_count": 7,
     "metadata": {},
     "output_type": "execute_result"
    }
   ],
   "source": [
    "train = boston[train_ind, :]\n",
    "test = boston[test_ind, :]"
   ]
  },
  {
   "cell_type": "code",
   "execution_count": 8,
   "metadata": {},
   "outputs": [
    {
     "data": {
      "text/plain": [
       "StatsModels.TableRegressionModel{LinearModel{GLM.LmResp{Array{Float64,1}},GLM.DensePredChol{Float64,LinearAlgebra.Cholesky{Float64,Array{Float64,2}}}},Array{Float64,2}}\n",
       "\n",
       "LogMedV ~ 1 + Crim + Chas + NOx + Rm + Dis + Rad + Tax + PTRatio + Black + LStat\n",
       "\n",
       "Coefficients:\n",
       "───────────────────────────────────────────────────────────────────────────────────────\n",
       "                 Estimate   Std. Error    t value  Pr(>|t|)     Lower 95%     Upper 95%\n",
       "───────────────────────────────────────────────────────────────────────────────────────\n",
       "(Intercept)   3.86581      0.223944      17.2624     <1e-49   3.42553       4.30608\n",
       "Crim         -0.0092264    0.00132517    -6.96242    <1e-10  -0.0118317    -0.00662111\n",
       "Chas          0.0774603    0.0378375      2.04719    0.0413   0.00307173    0.151849\n",
       "NOx          -0.778455     0.156354      -4.97879    <1e-6   -1.08585      -0.471062\n",
       "Rm            0.123659     0.018551       6.66586    <1e-10   0.0871872     0.16013\n",
       "Dis          -0.0431843    0.00710958    -6.0741     <1e-8   -0.0571617    -0.0292068\n",
       "Rad           0.0116477    0.0026575      4.38297    <1e-4    0.00642307    0.0168724\n",
       "Tax          -0.000492298  0.000138303   -3.55957    0.0004  -0.000764201  -0.000220394\n",
       "PTRatio      -0.0378598    0.0052442     -7.21936    <1e-11  -0.0481699    -0.0275497\n",
       "Black         0.000371317  0.000119332    3.11164    0.0020   0.000136711   0.000605924\n",
       "LStat        -0.0261167    0.00217473   -12.0092     <1e-27  -0.0303922    -0.0218412\n",
       "───────────────────────────────────────────────────────────────────────────────────────"
      ]
     },
     "execution_count": 8,
     "metadata": {},
     "output_type": "execute_result"
    }
   ],
   "source": [
    "model = lm(@formula(LogMedV ~ Crim + Chas + NOx + Rm + Dis + Rad + Tax + PTRatio + Black + LStat), train)"
   ]
  },
  {
   "cell_type": "code",
   "execution_count": 9,
   "metadata": {},
   "outputs": [
    {
     "data": {
      "text/plain": [
       "101-element Array{Float64,1}:\n",
       " 18.245840290013213\n",
       " 15.681670090107948\n",
       " 15.232501616685623\n",
       " 40.16834408108821\n",
       " 22.025352138850735\n",
       " 20.480981221430156\n",
       " 24.510084426164628\n",
       " 24.228658729858374\n",
       " 22.454647479546303\n",
       " 32.72555738213874\n",
       " 18.857534948989198\n",
       " 32.52844640178049\n",
       " 13.212629585721185\n",
       "  ⋮\n",
       " 13.63020055345036\n",
       " 18.117374022199847\n",
       " 40.911238665206\n",
       " 19.405508472629776\n",
       " 27.26267717550554\n",
       " 15.425818780289198\n",
       " 27.910461142449453\n",
       " 11.04661915783427\n",
       " 23.311802283012966\n",
       " 22.280294696436563\n",
       " 15.92974867308786\n",
       " 14.657684445454933"
      ]
     },
     "execution_count": 9,
     "metadata": {},
     "output_type": "execute_result"
    }
   ],
   "source": [
    "exp.(predict(model, test))"
   ]
  },
  {
   "cell_type": "code",
   "execution_count": 10,
   "metadata": {},
   "outputs": [
    {
     "data": {
      "text/plain": [
       "0.789075653087854"
      ]
     },
     "execution_count": 10,
     "metadata": {},
     "output_type": "execute_result"
    }
   ],
   "source": [
    "adjr²(model)"
   ]
  }
 ],
 "metadata": {
  "kernelspec": {
   "display_name": "Julia 1.4.0",
   "language": "julia",
   "name": "julia-1.4"
  },
  "language_info": {
   "file_extension": ".jl",
   "mimetype": "application/julia",
   "name": "julia",
   "version": "1.4.0"
  }
 },
 "nbformat": 4,
 "nbformat_minor": 4
}
