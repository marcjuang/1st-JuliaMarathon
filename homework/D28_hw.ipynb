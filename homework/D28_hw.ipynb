{
 "cells": [
  {
   "cell_type": "markdown",
   "metadata": {},
   "source": [
    "# Julia 機器學習：Clustering 分群模型\n",
    "\n",
    "## 作業 028：資料分群\n",
    "\n",
    "從提供的檔案中讀取資料，利用分群模型將資料分群後並將資料視覺化。資料中有 15 群，並利用 k-means 去對資料做分群。資料取自 http://cs.uef.fi/sipu/datasets/"
   ]
  },
  {
   "cell_type": "code",
   "execution_count": 1,
   "metadata": {},
   "outputs": [],
   "source": [
    "using Clustering, CSV, DataFrames"
   ]
  },
  {
   "cell_type": "markdown",
   "metadata": {},
   "source": [
    "## 讀取資料"
   ]
  },
  {
   "cell_type": "raw",
   "metadata": {},
   "source": [
    "data = CSV.read(\"s1-set.csv\")"
   ]
  },
  {
   "cell_type": "code",
   "execution_count": null,
   "metadata": {},
   "outputs": [],
   "source": []
  },
  {
   "cell_type": "code",
   "execution_count": 5,
   "metadata": {},
   "outputs": [
    {
     "ename": "UndefVarError",
     "evalue": "UndefVarError: dataset not defined",
     "output_type": "error",
     "traceback": [
      "UndefVarError: dataset not defined",
      "",
      "Stacktrace:",
      " [1] top-level scope at In[5]:1"
     ]
    }
   ],
   "source": [
    "DataF = dataset(\"data\")"
   ]
  },
  {
   "cell_type": "code",
   "execution_count": 3,
   "metadata": {},
   "outputs": [
    {
     "ename": "MethodError",
     "evalue": "MethodError: no method matching kmeans(::DataFrame, ::Int64)\nClosest candidates are:\n  kmeans(!Matched::AbstractArray{#s32,2} where #s32<:Real, ::Integer; weights, init, maxiter, tol, display, distance) at C:\\Users\\Marc Juang\\.julia\\packages\\Clustering\\dzWhx\\src\\kmeans.jl:103",
     "output_type": "error",
     "traceback": [
      "MethodError: no method matching kmeans(::DataFrame, ::Int64)\nClosest candidates are:\n  kmeans(!Matched::AbstractArray{#s32,2} where #s32<:Real, ::Integer; weights, init, maxiter, tol, display, distance) at C:\\Users\\Marc Juang\\.julia\\packages\\Clustering\\dzWhx\\src\\kmeans.jl:103",
      "",
      "Stacktrace:",
      " [1] top-level scope at In[3]:2"
     ]
    }
   ],
   "source": [
    "k = 15\n",
    "result = kmeans(DataF, k)"
   ]
  },
  {
   "cell_type": "code",
   "execution_count": null,
   "metadata": {},
   "outputs": [],
   "source": []
  },
  {
   "cell_type": "code",
   "execution_count": null,
   "metadata": {},
   "outputs": [],
   "source": [
    "data[!, :cluster] = string.(assignments(result));"
   ]
  },
  {
   "cell_type": "code",
   "execution_count": null,
   "metadata": {},
   "outputs": [],
   "source": [
    "result.centers"
   ]
  },
  {
   "cell_type": "code",
   "execution_count": null,
   "metadata": {},
   "outputs": [],
   "source": [
    "plot(data, x=\"x\", y=\"y\", color=\"cluster\", Geom.point)"
   ]
  }
 ],
 "metadata": {
  "kernelspec": {
   "display_name": "Julia 1.4.0",
   "language": "julia",
   "name": "julia-1.4"
  },
  "language_info": {
   "file_extension": ".jl",
   "mimetype": "application/julia",
   "name": "julia",
   "version": "1.4.0"
  }
 },
 "nbformat": 4,
 "nbformat_minor": 4
}
