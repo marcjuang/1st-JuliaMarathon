{
 "cells": [
  {
   "cell_type": "markdown",
   "metadata": {},
   "source": [
    "# Julia 條件與迴圈\n",
    "\n",
    "## Day 007 作業：使用條件與迴圈找出數值\n",
    "\n",
    "運用迴圈及條件判斷，找出並印出範圍內 (例如從 1 到 100)，是 3 的倍數，但是無法被 5 整除的數字。"
   ]
  },
  {
   "cell_type": "code",
   "execution_count": 1,
   "metadata": {},
   "outputs": [
    {
     "data": {
      "text/plain": [
       "100"
      ]
     },
     "execution_count": 1,
     "metadata": {},
     "output_type": "execute_result"
    }
   ],
   "source": [
    "x = 1 #範圍起始\n",
    "y = 100 #範圍結束"
   ]
  },
  {
   "cell_type": "code",
   "execution_count": 37,
   "metadata": {},
   "outputs": [
    {
     "name": "stdout",
     "output_type": "stream",
     "text": [
      "Count from 100 is 27\n"
     ]
    }
   ],
   "source": [
    "# 程式碼\n",
    "count = 0\n",
    "bb = 0\n",
    "for aa = x:y\n",
    "    if (aa % 3) == 0\n",
    "        if aa % 5 != 0\n",
    "              count +=1\n",
    "              continue\n",
    "        end\n",
    "            \n",
    "    end   \n",
    "    bb = aa\n",
    "end\n",
    "println(\"Count from \", bb, \" is \", count)"
   ]
  },
  {
   "cell_type": "markdown",
   "metadata": {},
   "source": [
    "## Day 007 作業2：請閱讀下列程式碼，並選擇正確的輸出結果\n",
    "\n",
    "```julia\n",
    "a = 2\n",
    "\n",
    "while a >= 0\n",
    "    for b = 0:2\n",
    "        if (a == b)\n",
    "            print(\"1 \")\n",
    "        else\n",
    "            print(\"0 \")\n",
    "        end\n",
    "    end\n",
    "    println()    \n",
    "    a -= 1\n",
    "end\n",
    "```\n",
    "\n",
    "請問正確的輸出是下列何者？\n",
    "\n",
    "A. 1 0 0<br />\n",
    "0 1 0<br />\n",
    "0 0 1<br />\n",
    "\n",
    "B. 0 1 0<br />\n",
    "1 0 0<br />\n",
    "0 0 1<br />\n",
    "\n",
    "** C.  0 0 1<br />\n",
    "** 0 1 0<br />\n",
    "** 1 0 0<br />\n",
    "\n",
    "D. 1 0 0<br />\n",
    "0 0 1<br />\n",
    "0 1 0<br />"
   ]
  },
  {
   "cell_type": "code",
   "execution_count": 17,
   "metadata": {},
   "outputs": [
    {
     "name": "stdout",
     "output_type": "stream",
     "text": [
      "0 0 1 \n",
      "0 1 0 \n",
      "1 0 0 \n"
     ]
    }
   ],
   "source": [
    "a = 2\n",
    "\n",
    "while a >= 0\n",
    "    for b = 0:2\n",
    "        if (a == b)\n",
    "            print(\"1 \")\n",
    "        else\n",
    "            print(\"0 \")\n",
    "        end\n",
    "    end\n",
    "    println()    \n",
    "    a -= 1\n",
    "end"
   ]
  },
  {
   "cell_type": "code",
   "execution_count": null,
   "metadata": {},
   "outputs": [],
   "source": []
  }
 ],
 "metadata": {
  "kernelspec": {
   "display_name": "Julia 1.4.0",
   "language": "julia",
   "name": "julia-1.4"
  },
  "language_info": {
   "file_extension": ".jl",
   "mimetype": "application/julia",
   "name": "julia",
   "version": "1.4.0"
  }
 },
 "nbformat": 4,
 "nbformat_minor": 4
}
