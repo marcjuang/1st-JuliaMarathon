{
 "cells": [
  {
   "cell_type": "markdown",
   "metadata": {
    "colab_type": "text",
    "id": "EVPW4kLCmaSc"
   },
   "source": [
    "## Day 20 作業：將 missing 值替代為其他值\n",
    "\n",
    "由於現實世界中的資料可能有缺漏，因此資料中就會有 missing 值存在，而在資料科學及機器學習中，缺漏值的處理關係到分析或預測的結果。\n",
    "\n",
    "在今天的作業中，請將資料集中的年齡缺漏值，依性別分別替換為資料集中男性或女性的年齡平均值。\n",
    "\n",
    "本次作業使用的資料集：Kaggle Titanic: Machine Learning from Disaster 的 train 資料集\n",
    "\n",
    "競賽主頁：[https://www.kaggle.com/c/titanic/overview](https://www.kaggle.com/c/titanic/overview)\n",
    "\n",
    "請自行下載資料集 **train.csv**：[https://www.kaggle.com/c/titanic/data](https://www.kaggle.com/c/titanic/data)"
   ]
  },
  {
   "cell_type": "code",
   "execution_count": 1,
   "metadata": {
    "colab": {},
    "colab_type": "code",
    "id": "eeWlfZJSmaSe"
   },
   "outputs": [],
   "source": [
    "using DataFrames, CSV"
   ]
  },
  {
   "cell_type": "code",
   "execution_count": 2,
   "metadata": {
    "colab": {},
    "colab_type": "code",
    "id": "IkfIcUkjmaTS",
    "outputId": "7c455008-ef6c-410c-a8ba-1ad7c6edbb2d"
   },
   "outputs": [
    {
     "data": {
      "text/html": [
       "<table class=\"data-frame\"><thead><tr><th></th><th>PassengerId</th><th>Survived</th><th>Pclass</th><th>Name</th></tr><tr><th></th><th>Int64</th><th>Int64</th><th>Int64</th><th>String</th></tr></thead><tbody><p>891 rows × 12 columns (omitted printing of 8 columns)</p><tr><th>1</th><td>1</td><td>0</td><td>3</td><td>Braund, Mr. Owen Harris</td></tr><tr><th>2</th><td>2</td><td>1</td><td>1</td><td>Cumings, Mrs. John Bradley (Florence Briggs Thayer)</td></tr><tr><th>3</th><td>3</td><td>1</td><td>3</td><td>Heikkinen, Miss. Laina</td></tr><tr><th>4</th><td>4</td><td>1</td><td>1</td><td>Futrelle, Mrs. Jacques Heath (Lily May Peel)</td></tr><tr><th>5</th><td>5</td><td>0</td><td>3</td><td>Allen, Mr. William Henry</td></tr><tr><th>6</th><td>6</td><td>0</td><td>3</td><td>Moran, Mr. James</td></tr><tr><th>7</th><td>7</td><td>0</td><td>1</td><td>McCarthy, Mr. Timothy J</td></tr><tr><th>8</th><td>8</td><td>0</td><td>3</td><td>Palsson, Master. Gosta Leonard</td></tr><tr><th>9</th><td>9</td><td>1</td><td>3</td><td>Johnson, Mrs. Oscar W (Elisabeth Vilhelmina Berg)</td></tr><tr><th>10</th><td>10</td><td>1</td><td>2</td><td>Nasser, Mrs. Nicholas (Adele Achem)</td></tr><tr><th>11</th><td>11</td><td>1</td><td>3</td><td>Sandstrom, Miss. Marguerite Rut</td></tr><tr><th>12</th><td>12</td><td>1</td><td>1</td><td>Bonnell, Miss. Elizabeth</td></tr><tr><th>13</th><td>13</td><td>0</td><td>3</td><td>Saundercock, Mr. William Henry</td></tr><tr><th>14</th><td>14</td><td>0</td><td>3</td><td>Andersson, Mr. Anders Johan</td></tr><tr><th>15</th><td>15</td><td>0</td><td>3</td><td>Vestrom, Miss. Hulda Amanda Adolfina</td></tr><tr><th>16</th><td>16</td><td>1</td><td>2</td><td>Hewlett, Mrs. (Mary D Kingcome) </td></tr><tr><th>17</th><td>17</td><td>0</td><td>3</td><td>Rice, Master. Eugene</td></tr><tr><th>18</th><td>18</td><td>1</td><td>2</td><td>Williams, Mr. Charles Eugene</td></tr><tr><th>19</th><td>19</td><td>0</td><td>3</td><td>Vander Planke, Mrs. Julius (Emelia Maria Vandemoortele)</td></tr><tr><th>20</th><td>20</td><td>1</td><td>3</td><td>Masselmani, Mrs. Fatima</td></tr><tr><th>21</th><td>21</td><td>0</td><td>2</td><td>Fynney, Mr. Joseph J</td></tr><tr><th>22</th><td>22</td><td>1</td><td>2</td><td>Beesley, Mr. Lawrence</td></tr><tr><th>23</th><td>23</td><td>1</td><td>3</td><td>McGowan, Miss. Anna \"Annie\"</td></tr><tr><th>24</th><td>24</td><td>1</td><td>1</td><td>Sloper, Mr. William Thompson</td></tr><tr><th>25</th><td>25</td><td>0</td><td>3</td><td>Palsson, Miss. Torborg Danira</td></tr><tr><th>26</th><td>26</td><td>1</td><td>3</td><td>Asplund, Mrs. Carl Oscar (Selma Augusta Emilia Johansson)</td></tr><tr><th>27</th><td>27</td><td>0</td><td>3</td><td>Emir, Mr. Farred Chehab</td></tr><tr><th>28</th><td>28</td><td>0</td><td>1</td><td>Fortune, Mr. Charles Alexander</td></tr><tr><th>29</th><td>29</td><td>1</td><td>3</td><td>O'Dwyer, Miss. Ellen \"Nellie\"</td></tr><tr><th>30</th><td>30</td><td>0</td><td>3</td><td>Todoroff, Mr. Lalio</td></tr><tr><th>&vellip;</th><td>&vellip;</td><td>&vellip;</td><td>&vellip;</td><td>&vellip;</td></tr></tbody></table>"
      ],
      "text/latex": [
       "\\begin{tabular}{r|ccccc}\n",
       "\t& PassengerId & Survived & Pclass & Name & \\\\\n",
       "\t\\hline\n",
       "\t& Int64 & Int64 & Int64 & String & \\\\\n",
       "\t\\hline\n",
       "\t1 & 1 & 0 & 3 & Braund, Mr. Owen Harris & $\\dots$ \\\\\n",
       "\t2 & 2 & 1 & 1 & Cumings, Mrs. John Bradley (Florence Briggs Thayer) & $\\dots$ \\\\\n",
       "\t3 & 3 & 1 & 3 & Heikkinen, Miss. Laina & $\\dots$ \\\\\n",
       "\t4 & 4 & 1 & 1 & Futrelle, Mrs. Jacques Heath (Lily May Peel) & $\\dots$ \\\\\n",
       "\t5 & 5 & 0 & 3 & Allen, Mr. William Henry & $\\dots$ \\\\\n",
       "\t6 & 6 & 0 & 3 & Moran, Mr. James & $\\dots$ \\\\\n",
       "\t7 & 7 & 0 & 1 & McCarthy, Mr. Timothy J & $\\dots$ \\\\\n",
       "\t8 & 8 & 0 & 3 & Palsson, Master. Gosta Leonard & $\\dots$ \\\\\n",
       "\t9 & 9 & 1 & 3 & Johnson, Mrs. Oscar W (Elisabeth Vilhelmina Berg) & $\\dots$ \\\\\n",
       "\t10 & 10 & 1 & 2 & Nasser, Mrs. Nicholas (Adele Achem) & $\\dots$ \\\\\n",
       "\t11 & 11 & 1 & 3 & Sandstrom, Miss. Marguerite Rut & $\\dots$ \\\\\n",
       "\t12 & 12 & 1 & 1 & Bonnell, Miss. Elizabeth & $\\dots$ \\\\\n",
       "\t13 & 13 & 0 & 3 & Saundercock, Mr. William Henry & $\\dots$ \\\\\n",
       "\t14 & 14 & 0 & 3 & Andersson, Mr. Anders Johan & $\\dots$ \\\\\n",
       "\t15 & 15 & 0 & 3 & Vestrom, Miss. Hulda Amanda Adolfina & $\\dots$ \\\\\n",
       "\t16 & 16 & 1 & 2 & Hewlett, Mrs. (Mary D Kingcome)  & $\\dots$ \\\\\n",
       "\t17 & 17 & 0 & 3 & Rice, Master. Eugene & $\\dots$ \\\\\n",
       "\t18 & 18 & 1 & 2 & Williams, Mr. Charles Eugene & $\\dots$ \\\\\n",
       "\t19 & 19 & 0 & 3 & Vander Planke, Mrs. Julius (Emelia Maria Vandemoortele) & $\\dots$ \\\\\n",
       "\t20 & 20 & 1 & 3 & Masselmani, Mrs. Fatima & $\\dots$ \\\\\n",
       "\t21 & 21 & 0 & 2 & Fynney, Mr. Joseph J & $\\dots$ \\\\\n",
       "\t22 & 22 & 1 & 2 & Beesley, Mr. Lawrence & $\\dots$ \\\\\n",
       "\t23 & 23 & 1 & 3 & McGowan, Miss. Anna \"Annie\" & $\\dots$ \\\\\n",
       "\t24 & 24 & 1 & 1 & Sloper, Mr. William Thompson & $\\dots$ \\\\\n",
       "\t25 & 25 & 0 & 3 & Palsson, Miss. Torborg Danira & $\\dots$ \\\\\n",
       "\t26 & 26 & 1 & 3 & Asplund, Mrs. Carl Oscar (Selma Augusta Emilia Johansson) & $\\dots$ \\\\\n",
       "\t27 & 27 & 0 & 3 & Emir, Mr. Farred Chehab & $\\dots$ \\\\\n",
       "\t28 & 28 & 0 & 1 & Fortune, Mr. Charles Alexander & $\\dots$ \\\\\n",
       "\t29 & 29 & 1 & 3 & O'Dwyer, Miss. Ellen \"Nellie\" & $\\dots$ \\\\\n",
       "\t30 & 30 & 0 & 3 & Todoroff, Mr. Lalio & $\\dots$ \\\\\n",
       "\t$\\dots$ & $\\dots$ & $\\dots$ & $\\dots$ & $\\dots$ &  \\\\\n",
       "\\end{tabular}\n"
      ],
      "text/plain": [
       "891×12 DataFrame. Omitted printing of 9 columns\n",
       "│ Row │ PassengerId │ Survived │ Pclass │\n",
       "│     │ \u001b[90mInt64\u001b[39m       │ \u001b[90mInt64\u001b[39m    │ \u001b[90mInt64\u001b[39m  │\n",
       "├─────┼─────────────┼──────────┼────────┤\n",
       "│ 1   │ 1           │ 0        │ 3      │\n",
       "│ 2   │ 2           │ 1        │ 1      │\n",
       "│ 3   │ 3           │ 1        │ 3      │\n",
       "│ 4   │ 4           │ 1        │ 1      │\n",
       "│ 5   │ 5           │ 0        │ 3      │\n",
       "│ 6   │ 6           │ 0        │ 3      │\n",
       "│ 7   │ 7           │ 0        │ 1      │\n",
       "│ 8   │ 8           │ 0        │ 3      │\n",
       "│ 9   │ 9           │ 1        │ 3      │\n",
       "│ 10  │ 10          │ 1        │ 2      │\n",
       "⋮\n",
       "│ 881 │ 881         │ 1        │ 2      │\n",
       "│ 882 │ 882         │ 0        │ 3      │\n",
       "│ 883 │ 883         │ 0        │ 3      │\n",
       "│ 884 │ 884         │ 0        │ 2      │\n",
       "│ 885 │ 885         │ 0        │ 3      │\n",
       "│ 886 │ 886         │ 0        │ 3      │\n",
       "│ 887 │ 887         │ 0        │ 2      │\n",
       "│ 888 │ 888         │ 1        │ 1      │\n",
       "│ 889 │ 889         │ 0        │ 3      │\n",
       "│ 890 │ 890         │ 1        │ 1      │\n",
       "│ 891 │ 891         │ 0        │ 3      │"
      ]
     },
     "execution_count": 2,
     "metadata": {},
     "output_type": "execute_result"
    }
   ],
   "source": [
    "df = CSV.read(\"train.csv\")"
   ]
  },
  {
   "cell_type": "code",
   "execution_count": 3,
   "metadata": {
    "colab": {},
    "colab_type": "code",
    "id": "otCGP_AtmaTm",
    "outputId": "3ff0bb8d-1103-47d8-fe43-47f18622f8c5"
   },
   "outputs": [
    {
     "data": {
      "text/plain": [
       "(891, 12)"
      ]
     },
     "execution_count": 3,
     "metadata": {},
     "output_type": "execute_result"
    }
   ],
   "source": [
    "size(df)"
   ]
  },
  {
   "cell_type": "markdown",
   "metadata": {
    "colab_type": "text",
    "id": "3JwkiUhYmaT5"
   },
   "source": [
    "呼叫 `describe()` 函式時，加上 `:nmissing` 參數，顯示各 column 的 missing 值數目。\n",
    "\n",
    "可以看到 Age 共有 177 個缺漏值。"
   ]
  },
  {
   "cell_type": "code",
   "execution_count": 4,
   "metadata": {
    "colab": {},
    "colab_type": "code",
    "id": "QWT4tm45maT7",
    "outputId": "d0c6a1ae-b249-4a32-9284-c3ffd4910b96"
   },
   "outputs": [
    {
     "data": {
      "text/html": [
       "<table class=\"data-frame\"><thead><tr><th></th><th>variable</th><th>nmissing</th></tr><tr><th></th><th>Symbol</th><th>Union…</th></tr></thead><tbody><p>12 rows × 2 columns</p><tr><th>1</th><td>PassengerId</td><td></td></tr><tr><th>2</th><td>Survived</td><td></td></tr><tr><th>3</th><td>Pclass</td><td></td></tr><tr><th>4</th><td>Name</td><td></td></tr><tr><th>5</th><td>Sex</td><td></td></tr><tr><th>6</th><td>Age</td><td>177</td></tr><tr><th>7</th><td>SibSp</td><td></td></tr><tr><th>8</th><td>Parch</td><td></td></tr><tr><th>9</th><td>Ticket</td><td></td></tr><tr><th>10</th><td>Fare</td><td></td></tr><tr><th>11</th><td>Cabin</td><td>687</td></tr><tr><th>12</th><td>Embarked</td><td>2</td></tr></tbody></table>"
      ],
      "text/latex": [
       "\\begin{tabular}{r|cc}\n",
       "\t& variable & nmissing\\\\\n",
       "\t\\hline\n",
       "\t& Symbol & Union…\\\\\n",
       "\t\\hline\n",
       "\t1 & PassengerId &  \\\\\n",
       "\t2 & Survived &  \\\\\n",
       "\t3 & Pclass &  \\\\\n",
       "\t4 & Name &  \\\\\n",
       "\t5 & Sex &  \\\\\n",
       "\t6 & Age & 177 \\\\\n",
       "\t7 & SibSp &  \\\\\n",
       "\t8 & Parch &  \\\\\n",
       "\t9 & Ticket &  \\\\\n",
       "\t10 & Fare &  \\\\\n",
       "\t11 & Cabin & 687 \\\\\n",
       "\t12 & Embarked & 2 \\\\\n",
       "\\end{tabular}\n"
      ],
      "text/plain": [
       "12×2 DataFrame\n",
       "│ Row │ variable    │ nmissing │\n",
       "│     │ \u001b[90mSymbol\u001b[39m      │ \u001b[90mUnion…\u001b[39m   │\n",
       "├─────┼─────────────┼──────────┤\n",
       "│ 1   │ PassengerId │          │\n",
       "│ 2   │ Survived    │          │\n",
       "│ 3   │ Pclass      │          │\n",
       "│ 4   │ Name        │          │\n",
       "│ 5   │ Sex         │          │\n",
       "│ 6   │ Age         │ 177      │\n",
       "│ 7   │ SibSp       │          │\n",
       "│ 8   │ Parch       │          │\n",
       "│ 9   │ Ticket      │          │\n",
       "│ 10  │ Fare        │          │\n",
       "│ 11  │ Cabin       │ 687      │\n",
       "│ 12  │ Embarked    │ 2        │"
      ]
     },
     "execution_count": 4,
     "metadata": {},
     "output_type": "execute_result"
    }
   ],
   "source": [
    "describe(df, :nmissing)"
   ]
  },
  {
   "cell_type": "markdown",
   "metadata": {
    "colab_type": "text",
    "id": "feAkzNA-maUC"
   },
   "source": [
    "計算男性及女性的平均年齡。\n",
    "\n",
    "【提示】使用 `skipmissing()` 去掉缺漏值後，再計算平均值。"
   ]
  },
  {
   "cell_type": "code",
   "execution_count": 5,
   "metadata": {},
   "outputs": [
    {
     "data": {
      "text/html": [
       "<p><b>GroupedDataFrame with 83 groups based on key: Age</b></p><p><i>First Group (15 rows): Age = 22.0</i></p><table class=\"data-frame\"><thead><tr><th></th><th>PassengerId</th><th>Survived</th><th>Pclass</th><th>Name</th><th>Sex</th><th>Age</th></tr><tr><th></th><th>Int64</th><th>Int64</th><th>Int64</th><th>String</th><th>String</th><th>Float64⍰</th></tr></thead><tbody><tr><th>1</th><td>1</td><td>0</td><td>3</td><td>Braund, Mr. Owen Harris</td><td>male</td><td>22.0</td></tr><tr><th>2</th><td>61</td><td>0</td><td>3</td><td>Sirayanian, Mr. Orsen</td><td>male</td><td>22.0</td></tr><tr><th>3</th><td>81</td><td>0</td><td>3</td><td>Waelens, Mr. Achille</td><td>male</td><td>22.0</td></tr><tr><th>4</th><td>113</td><td>0</td><td>3</td><td>Barton, Mr. David John</td><td>male</td><td>22.0</td></tr><tr><th>5</th><td>213</td><td>0</td><td>3</td><td>Perkin, Mr. John Henry</td><td>male</td><td>22.0</td></tr><tr><th>6</th><td>226</td><td>0</td><td>3</td><td>Berglund, Mr. Karl Ivar Sven</td><td>male</td><td>22.0</td></tr><tr><th>7</th><td>244</td><td>0</td><td>3</td><td>Maenpaa, Mr. Matti Alexanteri</td><td>male</td><td>22.0</td></tr><tr><th>8</th><td>288</td><td>0</td><td>3</td><td>Naidenoff, Mr. Penko</td><td>male</td><td>22.0</td></tr><tr><th>9</th><td>321</td><td>0</td><td>3</td><td>Dennis, Mr. Samuel</td><td>male</td><td>22.0</td></tr><tr><th>10</th><td>374</td><td>0</td><td>1</td><td>Ringhini, Mr. Sante</td><td>male</td><td>22.0</td></tr><tr><th>11</th><td>396</td><td>0</td><td>3</td><td>Johansson, Mr. Erik</td><td>male</td><td>22.0</td></tr><tr><th>12</th><td>479</td><td>0</td><td>3</td><td>Karlsson, Mr. Nils August</td><td>male</td><td>22.0</td></tr><tr><th>13</th><td>522</td><td>0</td><td>3</td><td>Vovk, Mr. Janko</td><td>male</td><td>22.0</td></tr><tr><th>14</th><td>554</td><td>1</td><td>3</td><td>Leeni, Mr. Fahim (\"Philip Zenni\")</td><td>male</td><td>22.0</td></tr><tr><th>15</th><td>589</td><td>0</td><td>3</td><td>Gilinski, Mr. Eliezer</td><td>male</td><td>22.0</td></tr></tbody></table><p>&vellip;</p><p><i>Last Group (1 row): Age = 74.0</i></p><table class=\"data-frame\"><thead><tr><th></th><th>PassengerId</th><th>Survived</th><th>Pclass</th><th>Name</th><th>Sex</th><th>Age</th><th>SibSp</th><th>Parch</th></tr><tr><th></th><th>Int64</th><th>Int64</th><th>Int64</th><th>String</th><th>String</th><th>Float64⍰</th><th>Int64</th><th>Int64</th></tr></thead><tbody><tr><th>1</th><td>852</td><td>0</td><td>3</td><td>Svensson, Mr. Johan</td><td>male</td><td>74.0</td><td>0</td><td>0</td></tr></tbody></table>"
      ],
      "text/latex": [
       "GroupedDataFrame with 83 groups based on key: Age\n",
       "\n",
       "First Group (15 rows): Age = 22.0\n",
       "\n",
       "\\begin{tabular}{r|ccccccc}\n",
       "\t& PassengerId & Survived & Pclass & Name & Sex & Age & \\\\\n",
       "\t\\hline\n",
       "\t& Int64 & Int64 & Int64 & String & String & Float64⍰ & \\\\\n",
       "\t\\hline\n",
       "\t1 & 1 & 0 & 3 & Braund, Mr. Owen Harris & male & 22.0 & $\\dots$ \\\\\n",
       "\t2 & 61 & 0 & 3 & Sirayanian, Mr. Orsen & male & 22.0 & $\\dots$ \\\\\n",
       "\t3 & 81 & 0 & 3 & Waelens, Mr. Achille & male & 22.0 & $\\dots$ \\\\\n",
       "\t4 & 113 & 0 & 3 & Barton, Mr. David John & male & 22.0 & $\\dots$ \\\\\n",
       "\t5 & 213 & 0 & 3 & Perkin, Mr. John Henry & male & 22.0 & $\\dots$ \\\\\n",
       "\t6 & 226 & 0 & 3 & Berglund, Mr. Karl Ivar Sven & male & 22.0 & $\\dots$ \\\\\n",
       "\t7 & 244 & 0 & 3 & Maenpaa, Mr. Matti Alexanteri & male & 22.0 & $\\dots$ \\\\\n",
       "\t8 & 288 & 0 & 3 & Naidenoff, Mr. Penko & male & 22.0 & $\\dots$ \\\\\n",
       "\t9 & 321 & 0 & 3 & Dennis, Mr. Samuel & male & 22.0 & $\\dots$ \\\\\n",
       "\t10 & 374 & 0 & 1 & Ringhini, Mr. Sante & male & 22.0 & $\\dots$ \\\\\n",
       "\t11 & 396 & 0 & 3 & Johansson, Mr. Erik & male & 22.0 & $\\dots$ \\\\\n",
       "\t12 & 479 & 0 & 3 & Karlsson, Mr. Nils August & male & 22.0 & $\\dots$ \\\\\n",
       "\t13 & 522 & 0 & 3 & Vovk, Mr. Janko & male & 22.0 & $\\dots$ \\\\\n",
       "\t14 & 554 & 1 & 3 & Leeni, Mr. Fahim (\"Philip Zenni\") & male & 22.0 & $\\dots$ \\\\\n",
       "\t15 & 589 & 0 & 3 & Gilinski, Mr. Eliezer & male & 22.0 & $\\dots$ \\\\\n",
       "\\end{tabular}\n",
       "\n",
       "$\\dots$\n",
       "\n",
       "Last Group (1 row): Age = 74.0\n",
       "\n",
       "\\begin{tabular}{r|ccccccccc}\n",
       "\t& PassengerId & Survived & Pclass & Name & Sex & Age & SibSp & Parch & \\\\\n",
       "\t\\hline\n",
       "\t& Int64 & Int64 & Int64 & String & String & Float64⍰ & Int64 & Int64 & \\\\\n",
       "\t\\hline\n",
       "\t1 & 852 & 0 & 3 & Svensson, Mr. Johan & male & 74.0 & 0 & 0 & $\\dots$ \\\\\n",
       "\\end{tabular}\n"
      ],
      "text/plain": [
       "GroupedDataFrame with 83 groups based on key: Age\n",
       "First Group (15 rows): Age = 22.0. Omitted printing of 8 columns\n",
       "│ Row │ PassengerId │ Survived │ Pclass │ Name                              │\n",
       "│     │ \u001b[90mInt64\u001b[39m       │ \u001b[90mInt64\u001b[39m    │ \u001b[90mInt64\u001b[39m  │ \u001b[90mString\u001b[39m                            │\n",
       "├─────┼─────────────┼──────────┼────────┼───────────────────────────────────┤\n",
       "│ 1   │ 1           │ 0        │ 3      │ Braund, Mr. Owen Harris           │\n",
       "│ 2   │ 61          │ 0        │ 3      │ Sirayanian, Mr. Orsen             │\n",
       "│ 3   │ 81          │ 0        │ 3      │ Waelens, Mr. Achille              │\n",
       "│ 4   │ 113         │ 0        │ 3      │ Barton, Mr. David John            │\n",
       "│ 5   │ 213         │ 0        │ 3      │ Perkin, Mr. John Henry            │\n",
       "│ 6   │ 226         │ 0        │ 3      │ Berglund, Mr. Karl Ivar Sven      │\n",
       "│ 7   │ 244         │ 0        │ 3      │ Maenpaa, Mr. Matti Alexanteri     │\n",
       "│ 8   │ 288         │ 0        │ 3      │ Naidenoff, Mr. Penko              │\n",
       "│ 9   │ 321         │ 0        │ 3      │ Dennis, Mr. Samuel                │\n",
       "│ 10  │ 374         │ 0        │ 1      │ Ringhini, Mr. Sante               │\n",
       "│ 11  │ 396         │ 0        │ 3      │ Johansson, Mr. Erik               │\n",
       "│ 12  │ 479         │ 0        │ 3      │ Karlsson, Mr. Nils August         │\n",
       "│ 13  │ 522         │ 0        │ 3      │ Vovk, Mr. Janko                   │\n",
       "│ 14  │ 554         │ 1        │ 3      │ Leeni, Mr. Fahim (\"Philip Zenni\") │\n",
       "│ 15  │ 589         │ 0        │ 3      │ Gilinski, Mr. Eliezer             │\n",
       "⋮\n",
       "Last Group (1 row): Age = 74.0. Omitted printing of 7 columns\n",
       "│ Row │ PassengerId │ Survived │ Pclass │ Name                │ Sex    │\n",
       "│     │ \u001b[90mInt64\u001b[39m       │ \u001b[90mInt64\u001b[39m    │ \u001b[90mInt64\u001b[39m  │ \u001b[90mString\u001b[39m              │ \u001b[90mString\u001b[39m │\n",
       "├─────┼─────────────┼──────────┼────────┼─────────────────────┼────────┤\n",
       "│ 1   │ 852         │ 0        │ 3      │ Svensson, Mr. Johan │ male   │"
      ]
     },
     "execution_count": 5,
     "metadata": {},
     "output_type": "execute_result"
    }
   ],
   "source": [
    "mdf=groupby(df[df.Sex .== \"male\", :], :Age)"
   ]
  },
  {
   "cell_type": "code",
   "execution_count": 6,
   "metadata": {},
   "outputs": [
    {
     "data": {
      "text/html": [
       "<p><b>GroupedDataFrame with 64 groups based on key: Age</b></p><p><i>First Group (5 rows): Age = 38.0</i></p><table class=\"data-frame\"><thead><tr><th></th><th>PassengerId</th><th>Survived</th><th>Pclass</th><th>Name</th></tr><tr><th></th><th>Int64</th><th>Int64</th><th>Int64</th><th>String</th></tr></thead><tbody><tr><th>1</th><td>2</td><td>1</td><td>1</td><td>Cumings, Mrs. John Bradley (Florence Briggs Thayer)</td></tr><tr><th>2</th><td>26</td><td>1</td><td>3</td><td>Asplund, Mrs. Carl Oscar (Selma Augusta Emilia Johansson)</td></tr><tr><th>3</th><td>62</td><td>1</td><td>1</td><td>Icard, Miss. Amelie</td></tr><tr><th>4</th><td>358</td><td>0</td><td>2</td><td>Funk, Miss. Annie Clemmer</td></tr><tr><th>5</th><td>717</td><td>1</td><td>1</td><td>Endres, Miss. Caroline Louise</td></tr></tbody></table><p>&vellip;</p><p><i>Last Group (1 row): Age = 56.0</i></p><table class=\"data-frame\"><thead><tr><th></th><th>PassengerId</th><th>Survived</th><th>Pclass</th><th>Name</th><th>Sex</th></tr><tr><th></th><th>Int64</th><th>Int64</th><th>Int64</th><th>String</th><th>String</th></tr></thead><tbody><tr><th>1</th><td>880</td><td>1</td><td>1</td><td>Potter, Mrs. Thomas Jr (Lily Alexenia Wilson)</td><td>female</td></tr></tbody></table>"
      ],
      "text/latex": [
       "GroupedDataFrame with 64 groups based on key: Age\n",
       "\n",
       "First Group (5 rows): Age = 38.0\n",
       "\n",
       "\\begin{tabular}{r|ccccc}\n",
       "\t& PassengerId & Survived & Pclass & Name & \\\\\n",
       "\t\\hline\n",
       "\t& Int64 & Int64 & Int64 & String & \\\\\n",
       "\t\\hline\n",
       "\t1 & 2 & 1 & 1 & Cumings, Mrs. John Bradley (Florence Briggs Thayer) & $\\dots$ \\\\\n",
       "\t2 & 26 & 1 & 3 & Asplund, Mrs. Carl Oscar (Selma Augusta Emilia Johansson) & $\\dots$ \\\\\n",
       "\t3 & 62 & 1 & 1 & Icard, Miss. Amelie & $\\dots$ \\\\\n",
       "\t4 & 358 & 0 & 2 & Funk, Miss. Annie Clemmer & $\\dots$ \\\\\n",
       "\t5 & 717 & 1 & 1 & Endres, Miss. Caroline Louise & $\\dots$ \\\\\n",
       "\\end{tabular}\n",
       "\n",
       "$\\dots$\n",
       "\n",
       "Last Group (1 row): Age = 56.0\n",
       "\n",
       "\\begin{tabular}{r|cccccc}\n",
       "\t& PassengerId & Survived & Pclass & Name & Sex & \\\\\n",
       "\t\\hline\n",
       "\t& Int64 & Int64 & Int64 & String & String & \\\\\n",
       "\t\\hline\n",
       "\t1 & 880 & 1 & 1 & Potter, Mrs. Thomas Jr (Lily Alexenia Wilson) & female & $\\dots$ \\\\\n",
       "\\end{tabular}\n"
      ],
      "text/plain": [
       "GroupedDataFrame with 64 groups based on key: Age\n",
       "First Group (5 rows): Age = 38.0. Omitted printing of 9 columns\n",
       "│ Row │ PassengerId │ Survived │ Pclass │\n",
       "│     │ \u001b[90mInt64\u001b[39m       │ \u001b[90mInt64\u001b[39m    │ \u001b[90mInt64\u001b[39m  │\n",
       "├─────┼─────────────┼──────────┼────────┤\n",
       "│ 1   │ 2           │ 1        │ 1      │\n",
       "│ 2   │ 26          │ 1        │ 3      │\n",
       "│ 3   │ 62          │ 1        │ 1      │\n",
       "│ 4   │ 358         │ 0        │ 2      │\n",
       "│ 5   │ 717         │ 1        │ 1      │\n",
       "⋮\n",
       "Last Group (1 row): Age = 56.0. Omitted printing of 9 columns\n",
       "│ Row │ PassengerId │ Survived │ Pclass │\n",
       "│     │ \u001b[90mInt64\u001b[39m       │ \u001b[90mInt64\u001b[39m    │ \u001b[90mInt64\u001b[39m  │\n",
       "├─────┼─────────────┼──────────┼────────┤\n",
       "│ 1   │ 880         │ 1        │ 1      │"
      ]
     },
     "execution_count": 6,
     "metadata": {},
     "output_type": "execute_result"
    }
   ],
   "source": [
    "fdf=groupby(df[df.Sex .== \"female\", :], :Age)"
   ]
  },
  {
   "cell_type": "code",
   "execution_count": 9,
   "metadata": {},
   "outputs": [
    {
     "ename": "MethodError",
     "evalue": "MethodError: no method matching getindex(::GroupedDataFrame{DataFrame}, ::typeof(!), ::Int64)\nClosest candidates are:\n  getindex(::GroupedDataFrame, !Matched::Integer) at C:\\Users\\Marc Juang\\.julia\\packages\\DataFrames\\S3ZFo\\src\\groupeddataframe\\grouping.jl:194\n  getindex(::GroupedDataFrame, !Matched::AbstractArray{T,N} where N) where T<:Integer at C:\\Users\\Marc Juang\\.julia\\packages\\DataFrames\\S3ZFo\\src\\groupeddataframe\\grouping.jl:199\n  getindex(::GroupedDataFrame, !Matched::Colon) at C:\\Users\\Marc Juang\\.julia\\packages\\DataFrames\\S3ZFo\\src\\groupeddataframe\\grouping.jl:213\n  ...",
     "output_type": "error",
     "traceback": [
      "MethodError: no method matching getindex(::GroupedDataFrame{DataFrame}, ::typeof(!), ::Int64)\nClosest candidates are:\n  getindex(::GroupedDataFrame, !Matched::Integer) at C:\\Users\\Marc Juang\\.julia\\packages\\DataFrames\\S3ZFo\\src\\groupeddataframe\\grouping.jl:194\n  getindex(::GroupedDataFrame, !Matched::AbstractArray{T,N} where N) where T<:Integer at C:\\Users\\Marc Juang\\.julia\\packages\\DataFrames\\S3ZFo\\src\\groupeddataframe\\grouping.jl:199\n  getindex(::GroupedDataFrame, !Matched::Colon) at C:\\Users\\Marc Juang\\.julia\\packages\\DataFrames\\S3ZFo\\src\\groupeddataframe\\grouping.jl:213\n  ...",
      "",
      "Stacktrace:",
      " [1] top-level scope at In[9]:1"
     ]
    }
   ],
   "source": [
    "mmdf = mdf[!, 6]"
   ]
  },
  {
   "cell_type": "code",
   "execution_count": null,
   "metadata": {},
   "outputs": [],
   "source": [
    "ffdf= fdf[!, 6]"
   ]
  },
  {
   "cell_type": "code",
   "execution_count": 7,
   "metadata": {
    "colab": {},
    "colab_type": "code",
    "id": "wRiM0Gq_maUD"
   },
   "outputs": [],
   "source": [
    "using Statistics"
   ]
  },
  {
   "cell_type": "code",
   "execution_count": 10,
   "metadata": {
    "colab": {},
    "colab_type": "code",
    "id": "54yYKzADmaUM"
   },
   "outputs": [
    {
     "data": {
      "text/plain": [
       "30.72664459161148"
      ]
     },
     "execution_count": 10,
     "metadata": {},
     "output_type": "execute_result"
    }
   ],
   "source": [
    "male_age_avg = mean(skipmissing(df[df.Sex .==\"male\", :Age]))"
   ]
  },
  {
   "cell_type": "code",
   "execution_count": 11,
   "metadata": {
    "colab": {},
    "colab_type": "code",
    "id": "4w92N00-maUT"
   },
   "outputs": [
    {
     "data": {
      "text/plain": [
       "27.915708812260537"
      ]
     },
     "execution_count": 11,
     "metadata": {},
     "output_type": "execute_result"
    }
   ],
   "source": [
    "female_age_avg = mean(skipmissing(df[df.Sex .==\"female\", :Age]))"
   ]
  },
  {
   "cell_type": "markdown",
   "metadata": {
    "colab_type": "text",
    "id": "-O9fseP7maUa"
   },
   "source": [
    "將 Age column 中的 missing 值，依性別替換為上面計算出來的平均年齡值。\n",
    "\n",
    "【提示】可產生新的 column 來存放新的結果，而不取代掉原先的 Age column。"
   ]
  },
  {
   "cell_type": "code",
   "execution_count": 12,
   "metadata": {
    "colab": {},
    "colab_type": "code",
    "id": "UEtMiJrOmaUb"
   },
   "outputs": [
    {
     "data": {
      "text/plain": [
       "891-element Array{Float64,1}:\n",
       " 22.0\n",
       " 38.0\n",
       " 26.0\n",
       " 35.0\n",
       " 35.0\n",
       " 30.72664459161148\n",
       " 54.0\n",
       "  2.0\n",
       " 27.0\n",
       " 14.0\n",
       "  4.0\n",
       " 58.0\n",
       " 20.0\n",
       "  ⋮\n",
       " 56.0\n",
       " 25.0\n",
       " 33.0\n",
       " 22.0\n",
       " 28.0\n",
       " 25.0\n",
       " 39.0\n",
       " 27.0\n",
       " 19.0\n",
       " 27.915708812260537\n",
       " 26.0\n",
       " 32.0"
      ]
     },
     "execution_count": 12,
     "metadata": {},
     "output_type": "execute_result"
    }
   ],
   "source": [
    "# 請輸入程式碼\n",
    "df.new_Age = map(eachrow(df)) do r\n",
    "    if (r.Sex == \"male\") & (ismissing(r.Age)) \n",
    "        Age = male_age_avg\n",
    "    elseif (r.Sex == \"female\") & (ismissing(r.Age))\n",
    "        Age = female_age_avg\n",
    "    else\n",
    "        Age = r.Age\n",
    "    end\n",
    "end"
   ]
  },
  {
   "cell_type": "code",
   "execution_count": 0,
   "metadata": {
    "colab": {},
    "colab_type": "code",
    "id": "szWNK43vmaUh"
   },
   "outputs": [],
   "source": []
  }
 ],
 "metadata": {
  "colab": {
   "name": "julia_020_hw.ipynb",
   "provenance": []
  },
  "kernelspec": {
   "display_name": "Julia 1.4.0",
   "language": "julia",
   "name": "julia-1.4"
  },
  "language_info": {
   "file_extension": ".jl",
   "mimetype": "application/julia",
   "name": "julia",
   "version": "1.4.0"
  }
 },
 "nbformat": 4,
 "nbformat_minor": 1
}
