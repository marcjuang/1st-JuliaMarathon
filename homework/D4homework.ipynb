{
 "cells": [
  {
   "cell_type": "code",
   "execution_count": 1,
   "metadata": {},
   "outputs": [
    {
     "name": "stdout",
     "output_type": "stream",
     "text": [
      "Int64  : 最小值 -9223372036854775808, 最大值 9223372036854775807\n"
     ]
    }
   ],
   "source": [
    "println(\"$(rpad(Int64,7)): 最小值 $(typemin(Int64)), 最大值 $(typemax(Int64))\")"
   ]
  },
  {
   "cell_type": "code",
   "execution_count": 2,
   "metadata": {},
   "outputs": [
    {
     "ename": "MethodError",
     "evalue": "MethodError: no method matching typemax(::Type{BigInt})\nClosest candidates are:\n  typemax(!Matched::Type{Bool}) at bool.jl:7\n  typemax(!Matched::Type{Int8}) at int.jl:652\n  typemax(!Matched::Type{UInt8}) at int.jl:654\n  ...",
     "output_type": "error",
     "traceback": [
      "MethodError: no method matching typemax(::Type{BigInt})\nClosest candidates are:\n  typemax(!Matched::Type{Bool}) at bool.jl:7\n  typemax(!Matched::Type{Int8}) at int.jl:652\n  typemax(!Matched::Type{UInt8}) at int.jl:654\n  ...",
      "",
      "Stacktrace:",
      " [1] top-level scope at In[2]:1"
     ]
    }
   ],
   "source": [
    "typemax(BigInt)"
   ]
  },
  {
   "cell_type": "code",
   "execution_count": 3,
   "metadata": {},
   "outputs": [
    {
     "ename": "MethodError",
     "evalue": "MethodError: no method matching typemin(::Type{BigInt})\nClosest candidates are:\n  typemin(!Matched::Type{Bool}) at bool.jl:6\n  typemin(!Matched::Type{Int8}) at int.jl:651\n  typemin(!Matched::Type{UInt8}) at int.jl:653\n  ...",
     "output_type": "error",
     "traceback": [
      "MethodError: no method matching typemin(::Type{BigInt})\nClosest candidates are:\n  typemin(!Matched::Type{Bool}) at bool.jl:6\n  typemin(!Matched::Type{Int8}) at int.jl:651\n  typemin(!Matched::Type{UInt8}) at int.jl:653\n  ...",
      "",
      "Stacktrace:",
      " [1] top-level scope at In[3]:1"
     ]
    }
   ],
   "source": [
    "typemin(BigInt)"
   ]
  },
  {
   "cell_type": "code",
   "execution_count": 4,
   "metadata": {},
   "outputs": [
    {
     "data": {
      "text/plain": [
       "64"
      ]
     },
     "execution_count": 4,
     "metadata": {},
     "output_type": "execute_result"
    }
   ],
   "source": [
    "# 查看內部變數 Sys.WORD_SIZE，顯示作業系統為 32-bit 或 64-bit。\n",
    "Sys.WORD_SIZE"
   ]
  },
  {
   "cell_type": "code",
   "execution_count": 5,
   "metadata": {},
   "outputs": [
    {
     "data": {
      "text/plain": [
       "Int64"
      ]
     },
     "execution_count": 5,
     "metadata": {},
     "output_type": "execute_result"
    }
   ],
   "source": [
    "x = 3\n",
    "typeof(x)"
   ]
  },
  {
   "cell_type": "code",
   "execution_count": 6,
   "metadata": {},
   "outputs": [
    {
     "data": {
      "text/plain": [
       "64"
      ]
     },
     "execution_count": 6,
     "metadata": {},
     "output_type": "execute_result"
    }
   ],
   "source": [
    "length(bitstring(x))"
   ]
  },
  {
   "cell_type": "code",
   "execution_count": 7,
   "metadata": {},
   "outputs": [
    {
     "name": "stdout",
     "output_type": "stream",
     "text": [
      "Int64 的位元組數是: 8\n"
     ]
    }
   ],
   "source": [
    "println(\"Int64 的位元組數是: \", sizeof(x))"
   ]
  },
  {
   "cell_type": "code",
   "execution_count": 8,
   "metadata": {},
   "outputs": [
    {
     "data": {
      "text/plain": [
       "20"
      ]
     },
     "execution_count": 8,
     "metadata": {},
     "output_type": "execute_result"
    }
   ],
   "source": [
    "# 十進位\n",
    "20"
   ]
  },
  {
   "cell_type": "code",
   "execution_count": 9,
   "metadata": {},
   "outputs": [
    {
     "data": {
      "text/plain": [
       "0x14"
      ]
     },
     "execution_count": 9,
     "metadata": {},
     "output_type": "execute_result"
    }
   ],
   "source": [
    "# 十六進位\n",
    "0x14"
   ]
  },
  {
   "cell_type": "code",
   "execution_count": 10,
   "metadata": {},
   "outputs": [
    {
     "data": {
      "text/plain": [
       "0x14"
      ]
     },
     "execution_count": 10,
     "metadata": {},
     "output_type": "execute_result"
    }
   ],
   "source": [
    "# 八進位\n",
    "0o24"
   ]
  },
  {
   "cell_type": "code",
   "execution_count": 11,
   "metadata": {},
   "outputs": [
    {
     "data": {
      "text/plain": [
       "UInt8"
      ]
     },
     "execution_count": 11,
     "metadata": {},
     "output_type": "execute_result"
    }
   ],
   "source": [
    "typeof(0x14)"
   ]
  },
  {
   "cell_type": "code",
   "execution_count": 12,
   "metadata": {},
   "outputs": [
    {
     "data": {
      "text/plain": [
       "Int128"
      ]
     },
     "execution_count": 12,
     "metadata": {},
     "output_type": "execute_result"
    }
   ],
   "source": [
    "y = Int128(3)\n",
    "typeof(y)"
   ]
  },
  {
   "cell_type": "code",
   "execution_count": 13,
   "metadata": {},
   "outputs": [
    {
     "data": {
      "text/plain": [
       "128"
      ]
     },
     "execution_count": 13,
     "metadata": {},
     "output_type": "execute_result"
    }
   ],
   "source": [
    "length(bitstring(y))"
   ]
  },
  {
   "cell_type": "code",
   "execution_count": 1,
   "metadata": {},
   "outputs": [
    {
     "data": {
      "text/plain": [
       "UInt64"
      ]
     },
     "execution_count": 1,
     "metadata": {},
     "output_type": "execute_result"
    }
   ],
   "source": [
    "typeof(unsigned(20))"
   ]
  },
  {
   "cell_type": "code",
   "execution_count": 2,
   "metadata": {},
   "outputs": [
    {
     "data": {
      "text/plain": [
       "Int32"
      ]
     },
     "execution_count": 2,
     "metadata": {},
     "output_type": "execute_result"
    }
   ],
   "source": [
    "typeof(signed(UInt32(20)))"
   ]
  },
  {
   "cell_type": "code",
   "execution_count": 3,
   "metadata": {},
   "outputs": [
    {
     "data": {
      "text/plain": [
       "-1"
      ]
     },
     "execution_count": 3,
     "metadata": {},
     "output_type": "execute_result"
    }
   ],
   "source": [
    "x = typemax(UInt8) # UInt8 最大值為 255\n",
    "signed(x) # 由於 Int8 的最大值為 127，所以轉換後會造成 overflow"
   ]
  },
  {
   "cell_type": "code",
   "execution_count": 4,
   "metadata": {},
   "outputs": [
    {
     "data": {
      "text/plain": [
       "-9223372036854775808"
      ]
     },
     "execution_count": 4,
     "metadata": {},
     "output_type": "execute_result"
    }
   ],
   "source": [
    "# 溢位，結果為負數\n",
    "typemax(Int64) + 1"
   ]
  },
  {
   "cell_type": "code",
   "execution_count": 5,
   "metadata": {},
   "outputs": [
    {
     "ename": "DivideError",
     "evalue": "DivideError: integer division error",
     "output_type": "error",
     "traceback": [
      "DivideError: integer division error",
      "",
      "Stacktrace:",
      " [1] div(::Int64, ::Int64) at .\\int.jl:230",
      " [2] top-level scope at In[5]:1"
     ]
    }
   ],
   "source": [
    "3 ÷ 0"
   ]
  },
  {
   "cell_type": "code",
   "execution_count": 6,
   "metadata": {},
   "outputs": [
    {
     "data": {
      "text/plain": [
       "(\"00000001\", \"00000000\")"
      ]
     },
     "execution_count": 6,
     "metadata": {},
     "output_type": "execute_result"
    }
   ],
   "source": [
    "bitstring(true), bitstring(false)"
   ]
  },
  {
   "cell_type": "code",
   "execution_count": 7,
   "metadata": {},
   "outputs": [
    {
     "data": {
      "text/plain": [
       "(1, 0)"
      ]
     },
     "execution_count": 7,
     "metadata": {},
     "output_type": "execute_result"
    }
   ],
   "source": [
    "# Bool 轉為整數，只要是整數型別都可以\n",
    "Int(true), Int8(false)"
   ]
  },
  {
   "cell_type": "code",
   "execution_count": 8,
   "metadata": {},
   "outputs": [
    {
     "data": {
      "text/plain": [
       "(true, false)"
      ]
     },
     "execution_count": 8,
     "metadata": {},
     "output_type": "execute_result"
    }
   ],
   "source": [
    "# 整數轉為 Bool\n",
    "Bool(Int64(1)), Bool(0)"
   ]
  },
  {
   "cell_type": "code",
   "execution_count": 9,
   "metadata": {},
   "outputs": [
    {
     "ename": "InexactError",
     "evalue": "InexactError: Bool(10)",
     "output_type": "error",
     "traceback": [
      "InexactError: Bool(10)",
      "",
      "Stacktrace:",
      " [1] Bool(::Int64) at .\\float.jl:73",
      " [2] top-level scope at In[9]:1"
     ]
    }
   ],
   "source": [
    "Bool(10)"
   ]
  },
  {
   "cell_type": "code",
   "execution_count": 10,
   "metadata": {},
   "outputs": [
    {
     "ename": "TypeError",
     "evalue": "TypeError: non-boolean (Int64) used in boolean context",
     "output_type": "error",
     "traceback": [
      "TypeError: non-boolean (Int64) used in boolean context",
      "",
      "Stacktrace:",
      " [1] top-level scope at .\\In[10]:1"
     ]
    }
   ],
   "source": [
    "while 1\n",
    "    println(\"true\")\n",
    "end"
   ]
  },
  {
   "cell_type": "code",
   "execution_count": 11,
   "metadata": {},
   "outputs": [
    {
     "name": "stdout",
     "output_type": "stream",
     "text": [
      "Float64: 最小值 -Inf, 最大值 Inf\n"
     ]
    }
   ],
   "source": [
    "println(\"$(rpad(Float64,7)): 最小值 $(typemin(Float64)), 最大值 $(typemax(Float64))\")"
   ]
  },
  {
   "cell_type": "code",
   "execution_count": 12,
   "metadata": {},
   "outputs": [
    {
     "name": "stdout",
     "output_type": "stream",
     "text": [
      "Float64: 最小值 -Inf, 最大值 Inf\n"
     ]
    }
   ],
   "source": [
    "println(\"$(rpad(Float64,7)): 最小值 $(typemin(Float64)), 最大值 $(typemax(Float64))\")"
   ]
  },
  {
   "cell_type": "code",
   "execution_count": 13,
   "metadata": {},
   "outputs": [
    {
     "data": {
      "text/plain": [
       "Inf16"
      ]
     },
     "execution_count": 13,
     "metadata": {},
     "output_type": "execute_result"
    }
   ],
   "source": [
    "typemax(Float16)"
   ]
  },
  {
   "cell_type": "code",
   "execution_count": 14,
   "metadata": {},
   "outputs": [
    {
     "data": {
      "text/plain": [
       "(1.0, 1.0, 0.5, 0.5, -1.2)"
      ]
     },
     "execution_count": 14,
     "metadata": {},
     "output_type": "execute_result"
    }
   ],
   "source": [
    "1.0, 1., 0.5, .5, -1.2"
   ]
  },
  {
   "cell_type": "code",
   "execution_count": 15,
   "metadata": {},
   "outputs": [
    {
     "data": {
      "text/plain": [
       "(1.0e10, 0.001)"
      ]
     },
     "execution_count": 15,
     "metadata": {},
     "output_type": "execute_result"
    }
   ],
   "source": [
    "1.e10, 1.0e-3"
   ]
  },
  {
   "cell_type": "code",
   "execution_count": 16,
   "metadata": {},
   "outputs": [
    {
     "data": {
      "text/plain": [
       "(1.0e10, 0.001)"
      ]
     },
     "execution_count": 16,
     "metadata": {},
     "output_type": "execute_result"
    }
   ],
   "source": [
    "1.e10, 1.0e-3"
   ]
  },
  {
   "cell_type": "code",
   "execution_count": 17,
   "metadata": {},
   "outputs": [
    {
     "data": {
      "text/plain": [
       "Float64"
      ]
     },
     "execution_count": 17,
     "metadata": {},
     "output_type": "execute_result"
    }
   ],
   "source": [
    "typeof(1.)"
   ]
  },
  {
   "cell_type": "code",
   "execution_count": 18,
   "metadata": {},
   "outputs": [
    {
     "data": {
      "text/plain": [
       "1.0f0"
      ]
     },
     "execution_count": 18,
     "metadata": {},
     "output_type": "execute_result"
    }
   ],
   "source": [
    "1f0"
   ]
  },
  {
   "cell_type": "code",
   "execution_count": 19,
   "metadata": {},
   "outputs": [
    {
     "data": {
      "text/plain": [
       "Float32"
      ]
     },
     "execution_count": 19,
     "metadata": {},
     "output_type": "execute_result"
    }
   ],
   "source": [
    "# ans 是 Julia 將最後一個值指定給 ans 變數\n",
    "typeof(ans)"
   ]
  },
  {
   "cell_type": "code",
   "execution_count": 20,
   "metadata": {},
   "outputs": [
    {
     "data": {
      "text/plain": [
       "Float64"
      ]
     },
     "execution_count": 20,
     "metadata": {},
     "output_type": "execute_result"
    }
   ],
   "source": [
    "typeof(NaN)"
   ]
  },
  {
   "cell_type": "code",
   "execution_count": 21,
   "metadata": {},
   "outputs": [
    {
     "data": {
      "text/plain": [
       "true"
      ]
     },
     "execution_count": 21,
     "metadata": {},
     "output_type": "execute_result"
    }
   ],
   "source": [
    "0.0 == -0.0"
   ]
  },
  {
   "cell_type": "code",
   "execution_count": 22,
   "metadata": {},
   "outputs": [
    {
     "data": {
      "text/plain": [
       "\"0000000000000000000000000000000000000000000000000000000000000000\""
      ]
     },
     "execution_count": 22,
     "metadata": {},
     "output_type": "execute_result"
    }
   ],
   "source": [
    "bitstring(0.0)"
   ]
  },
  {
   "cell_type": "code",
   "execution_count": 23,
   "metadata": {},
   "outputs": [
    {
     "data": {
      "text/plain": [
       "\"1000000000000000000000000000000000000000000000000000000000000000\""
      ]
     },
     "execution_count": 23,
     "metadata": {},
     "output_type": "execute_result"
    }
   ],
   "source": [
    "bitstring(-0.0)"
   ]
  },
  {
   "cell_type": "code",
   "execution_count": 24,
   "metadata": {},
   "outputs": [
    {
     "data": {
      "text/plain": [
       "0.0"
      ]
     },
     "execution_count": 24,
     "metadata": {},
     "output_type": "execute_result"
    }
   ],
   "source": [
    "zero(Float64)"
   ]
  },
  {
   "cell_type": "code",
   "execution_count": 25,
   "metadata": {},
   "outputs": [
    {
     "data": {
      "text/plain": [
       "\"0000000000000000000000000000000000000000000000000000000000000000\""
      ]
     },
     "execution_count": 25,
     "metadata": {},
     "output_type": "execute_result"
    }
   ],
   "source": [
    "bitstring(ans)"
   ]
  },
  {
   "cell_type": "code",
   "execution_count": 26,
   "metadata": {},
   "outputs": [
    {
     "data": {
      "text/plain": [
       "1.0f0"
      ]
     },
     "execution_count": 26,
     "metadata": {},
     "output_type": "execute_result"
    }
   ],
   "source": [
    "Float32(1.0)"
   ]
  },
  {
   "cell_type": "code",
   "execution_count": 27,
   "metadata": {},
   "outputs": [
    {
     "data": {
      "text/plain": [
       "Float32"
      ]
     },
     "execution_count": 27,
     "metadata": {},
     "output_type": "execute_result"
    }
   ],
   "source": [
    "typeof(ans)"
   ]
  },
  {
   "cell_type": "code",
   "execution_count": 28,
   "metadata": {},
   "outputs": [
    {
     "data": {
      "text/plain": [
       "2.220446049250313e-16"
      ]
     },
     "execution_count": 28,
     "metadata": {},
     "output_type": "execute_result"
    }
   ],
   "source": [
    "eps()"
   ]
  },
  {
   "cell_type": "code",
   "execution_count": 29,
   "metadata": {},
   "outputs": [
    {
     "data": {
      "text/plain": [
       "2.220446049250313e-16"
      ]
     },
     "execution_count": 29,
     "metadata": {},
     "output_type": "execute_result"
    }
   ],
   "source": [
    "# 預設即為 eps(Float64)\n",
    "eps(Float64)"
   ]
  },
  {
   "cell_type": "code",
   "execution_count": 30,
   "metadata": {},
   "outputs": [
    {
     "data": {
      "text/plain": [
       "1.4210854715202004e-14"
      ]
     },
     "execution_count": 30,
     "metadata": {},
     "output_type": "execute_result"
    }
   ],
   "source": [
    "eps(100.0)"
   ]
  },
  {
   "cell_type": "code",
   "execution_count": 31,
   "metadata": {},
   "outputs": [
    {
     "data": {
      "text/plain": [
       "100.00000000000001"
      ]
     },
     "execution_count": 31,
     "metadata": {},
     "output_type": "execute_result"
    }
   ],
   "source": [
    "100.0 + eps(100.0)"
   ]
  },
  {
   "cell_type": "code",
   "execution_count": 32,
   "metadata": {},
   "outputs": [
    {
     "data": {
      "text/plain": [
       "100.00000000000001"
      ]
     },
     "execution_count": 32,
     "metadata": {},
     "output_type": "execute_result"
    }
   ],
   "source": [
    "nextfloat(100.0)"
   ]
  },
  {
   "cell_type": "code",
   "execution_count": 33,
   "metadata": {},
   "outputs": [
    {
     "data": {
      "text/plain": [
       "1.0"
      ]
     },
     "execution_count": 33,
     "metadata": {},
     "output_type": "execute_result"
    }
   ],
   "source": [
    "round(1.2)"
   ]
  },
  {
   "cell_type": "code",
   "execution_count": 34,
   "metadata": {},
   "outputs": [
    {
     "data": {
      "text/plain": [
       "0.0"
      ]
     },
     "execution_count": 34,
     "metadata": {},
     "output_type": "execute_result"
    }
   ],
   "source": [
    "# 最近的偶數為 0\n",
    "round(0.5)"
   ]
  },
  {
   "cell_type": "code",
   "execution_count": 35,
   "metadata": {},
   "outputs": [
    {
     "data": {
      "text/plain": [
       "(2.0, 2.0)"
      ]
     },
     "execution_count": 35,
     "metadata": {},
     "output_type": "execute_result"
    }
   ],
   "source": [
    "# 最近的偶數為 2\n",
    "round(1.5), round(2.5)"
   ]
  },
  {
   "cell_type": "code",
   "execution_count": 36,
   "metadata": {},
   "outputs": [
    {
     "data": {
      "text/plain": [
       "(2.0, 2.0)"
      ]
     },
     "execution_count": 36,
     "metadata": {},
     "output_type": "execute_result"
    }
   ],
   "source": [
    "# 若要四捨五入, 加上 RoundNearestTiesUp 常數參數\n",
    "round(2.4, RoundNearestTiesUp), round(1.6, RoundNearestTiesUp)"
   ]
  },
  {
   "cell_type": "code",
   "execution_count": 37,
   "metadata": {},
   "outputs": [
    {
     "data": {
      "text/plain": [
       "(-2.0, 1.0)"
      ]
     },
     "execution_count": 37,
     "metadata": {},
     "output_type": "execute_result"
    }
   ],
   "source": [
    "round(-1.5, RoundDown), round(1.5, RoundDown)"
   ]
  },
  {
   "cell_type": "code",
   "execution_count": 38,
   "metadata": {},
   "outputs": [
    {
     "data": {
      "text/plain": [
       "1//2"
      ]
     },
     "execution_count": 38,
     "metadata": {},
     "output_type": "execute_result"
    }
   ],
   "source": [
    "# 分子、分母均需為整數\n",
    "1//2"
   ]
  },
  {
   "cell_type": "code",
   "execution_count": 39,
   "metadata": {},
   "outputs": [
    {
     "data": {
      "text/plain": [
       "0x00000003//0x00000005"
      ]
     },
     "execution_count": 39,
     "metadata": {},
     "output_type": "execute_result"
    }
   ],
   "source": [
    "# 分子、分母的整數型別不同時，會自動進行必要的轉換\n",
    "UInt32(3)//Int8(5)"
   ]
  },
  {
   "cell_type": "code",
   "execution_count": 40,
   "metadata": {},
   "outputs": [
    {
     "data": {
      "text/plain": [
       "Rational{UInt32}"
      ]
     },
     "execution_count": 40,
     "metadata": {},
     "output_type": "execute_result"
    }
   ],
   "source": [
    "typeof(ans)"
   ]
  },
  {
   "cell_type": "code",
   "execution_count": 41,
   "metadata": {},
   "outputs": [
    {
     "data": {
      "text/plain": [
       "-2//1"
      ]
     },
     "execution_count": 41,
     "metadata": {},
     "output_type": "execute_result"
    }
   ],
   "source": [
    "# 分子、分母可為正或負數，但是有理數會被約分為分母不為負數的形式\n",
    "2//-1"
   ]
  },
  {
   "cell_type": "code",
   "execution_count": 42,
   "metadata": {},
   "outputs": [
    {
     "data": {
      "text/plain": [
       "-2//1"
      ]
     },
     "execution_count": 42,
     "metadata": {},
     "output_type": "execute_result"
    }
   ],
   "source": [
    "ans"
   ]
  },
  {
   "cell_type": "code",
   "execution_count": 43,
   "metadata": {},
   "outputs": [
    {
     "data": {
      "text/plain": [
       "1//2"
      ]
     },
     "execution_count": 43,
     "metadata": {},
     "output_type": "execute_result"
    }
   ],
   "source": [
    "# 約分\n",
    "3 // 6"
   ]
  },
  {
   "cell_type": "code",
   "execution_count": 44,
   "metadata": {},
   "outputs": [
    {
     "ename": "MethodError",
     "evalue": "MethodError: no method matching //(::Float64, ::Int64)\nClosest candidates are:\n  //(!Matched::Integer, ::Integer) at rational.jl:50\n  //(!Matched::Rational, ::Integer) at rational.jl:53\n  //(!Matched::Complex, ::Real) at rational.jl:66\n  ...",
     "output_type": "error",
     "traceback": [
      "MethodError: no method matching //(::Float64, ::Int64)\nClosest candidates are:\n  //(!Matched::Integer, ::Integer) at rational.jl:50\n  //(!Matched::Rational, ::Integer) at rational.jl:53\n  //(!Matched::Complex, ::Real) at rational.jl:66\n  ...",
      "",
      "Stacktrace:",
      " [1] top-level scope at In[44]:1"
     ]
    }
   ],
   "source": [
    "# 分子及分母不可為浮點數\n",
    "1.1//2"
   ]
  },
  {
   "cell_type": "code",
   "execution_count": 45,
   "metadata": {},
   "outputs": [
    {
     "data": {
      "text/plain": [
       "0//1"
      ]
     },
     "execution_count": 45,
     "metadata": {},
     "output_type": "execute_result"
    }
   ],
   "source": [
    "# 分母或分子可為零\n",
    "0//5"
   ]
  },
  {
   "cell_type": "code",
   "execution_count": 46,
   "metadata": {},
   "outputs": [
    {
     "data": {
      "text/plain": [
       "1//0"
      ]
     },
     "execution_count": 46,
     "metadata": {},
     "output_type": "execute_result"
    }
   ],
   "source": [
    "# 分母或分子可為零\n",
    "5//0"
   ]
  },
  {
   "cell_type": "code",
   "execution_count": 47,
   "metadata": {},
   "outputs": [
    {
     "ename": "ArgumentError",
     "evalue": "ArgumentError: invalid rational: zero(Int64)//zero(Int64)",
     "output_type": "error",
     "traceback": [
      "ArgumentError: invalid rational: zero(Int64)//zero(Int64)",
      "",
      "Stacktrace:",
      " [1] __throw_rational_argerror_zero(::Type{T} where T) at .\\rational.jl:24",
      " [2] Rational at .\\rational.jl:14 [inlined]",
      " [3] Rational at .\\rational.jl:27 [inlined]",
      " [4] //(::Int64, ::Int64) at .\\rational.jl:50",
      " [5] top-level scope at In[47]:1"
     ]
    }
   ],
   "source": [
    "# 分母或分子可為零，但是不可分子和分母同時為零\n",
    "0//0"
   ]
  },
  {
   "cell_type": "code",
   "execution_count": 48,
   "metadata": {},
   "outputs": [
    {
     "data": {
      "text/plain": [
       "1.5"
      ]
     },
     "execution_count": 48,
     "metadata": {},
     "output_type": "execute_result"
    }
   ],
   "source": [
    "# 有理數轉為浮點數\n",
    "Float64(3//2)"
   ]
  },
  {
   "cell_type": "code",
   "execution_count": 49,
   "metadata": {},
   "outputs": [
    {
     "data": {
      "text/plain": [
       "-1//4"
      ]
     },
     "execution_count": 49,
     "metadata": {},
     "output_type": "execute_result"
    }
   ],
   "source": [
    "# 浮點數轉為有理數\n",
    "Rational(-0.25)"
   ]
  },
  {
   "cell_type": "code",
   "execution_count": 50,
   "metadata": {},
   "outputs": [
    {
     "data": {
      "text/plain": [
       "2"
      ]
     },
     "execution_count": 50,
     "metadata": {},
     "output_type": "execute_result"
    }
   ],
   "source": [
    "r = 2//3\n",
    "\n",
    "# 取得有理數的分子\n",
    "numerator(r)"
   ]
  },
  {
   "cell_type": "code",
   "execution_count": 51,
   "metadata": {},
   "outputs": [
    {
     "data": {
      "text/plain": [
       "3"
      ]
     },
     "execution_count": 51,
     "metadata": {},
     "output_type": "execute_result"
    }
   ],
   "source": [
    "# 取得有理數的分母\n",
    "denominator(r)"
   ]
  },
  {
   "cell_type": "code",
   "execution_count": 52,
   "metadata": {},
   "outputs": [
    {
     "data": {
      "text/plain": [
       "1 + 2im"
      ]
     },
     "execution_count": 52,
     "metadata": {},
     "output_type": "execute_result"
    }
   ],
   "source": [
    "1 + 2im"
   ]
  },
  {
   "cell_type": "code",
   "execution_count": 53,
   "metadata": {},
   "outputs": [
    {
     "data": {
      "text/plain": [
       "1 + 0im"
      ]
     },
     "execution_count": 53,
     "metadata": {},
     "output_type": "execute_result"
    }
   ],
   "source": [
    "Complex(1)"
   ]
  },
  {
   "cell_type": "code",
   "execution_count": 54,
   "metadata": {},
   "outputs": [
    {
     "data": {
      "text/plain": [
       "0 + 2im"
      ]
     },
     "execution_count": 54,
     "metadata": {},
     "output_type": "execute_result"
    }
   ],
   "source": [
    "Complex(2im)"
   ]
  },
  {
   "cell_type": "code",
   "execution_count": 55,
   "metadata": {},
   "outputs": [
    {
     "data": {
      "text/plain": [
       "1 + 2im"
      ]
     },
     "execution_count": 55,
     "metadata": {},
     "output_type": "execute_result"
    }
   ],
   "source": [
    "a = 1; b = 2\n",
    "\n",
    "a + b * im"
   ]
  },
  {
   "cell_type": "code",
   "execution_count": 57,
   "metadata": {},
   "outputs": [
    {
     "data": {
      "text/plain": [
       "1 + 2im"
      ]
     },
     "execution_count": 57,
     "metadata": {},
     "output_type": "execute_result"
    }
   ],
   "source": [
    "complex(a, b)"
   ]
  },
  {
   "cell_type": "code",
   "execution_count": 58,
   "metadata": {},
   "outputs": [
    {
     "data": {
      "text/plain": [
       "Complex{Int64}"
      ]
     },
     "execution_count": 58,
     "metadata": {},
     "output_type": "execute_result"
    }
   ],
   "source": [
    "# 型別由 Julia 自動確定\n",
    "typeof(ans)"
   ]
  },
  {
   "cell_type": "code",
   "execution_count": 59,
   "metadata": {},
   "outputs": [
    {
     "data": {
      "text/plain": [
       "1 + 2im"
      ]
     },
     "execution_count": 59,
     "metadata": {},
     "output_type": "execute_result"
    }
   ],
   "source": [
    "Complex(a, b)"
   ]
  },
  {
   "cell_type": "code",
   "execution_count": 60,
   "metadata": {},
   "outputs": [
    {
     "data": {
      "text/plain": [
       "1.0 + 2.0im"
      ]
     },
     "execution_count": 60,
     "metadata": {},
     "output_type": "execute_result"
    }
   ],
   "source": [
    "Complex{Float64}(1, 2)"
   ]
  },
  {
   "cell_type": "code",
   "execution_count": 61,
   "metadata": {},
   "outputs": [
    {
     "data": {
      "text/plain": [
       "1.0f0 + 2.0f0im"
      ]
     },
     "execution_count": 61,
     "metadata": {},
     "output_type": "execute_result"
    }
   ],
   "source": [
    "# 使用別名\n",
    "ComplexF32(1, 2)"
   ]
  },
  {
   "cell_type": "code",
   "execution_count": 62,
   "metadata": {},
   "outputs": [
    {
     "data": {
      "text/plain": [
       "Complex{Int64}"
      ]
     },
     "execution_count": 62,
     "metadata": {},
     "output_type": "execute_result"
    }
   ],
   "source": [
    "Complex{Int64}"
   ]
  },
  {
   "cell_type": "code",
   "execution_count": 63,
   "metadata": {},
   "outputs": [
    {
     "data": {
      "text/plain": [
       "1.0 + 2.0im"
      ]
     },
     "execution_count": 63,
     "metadata": {},
     "output_type": "execute_result"
    }
   ],
   "source": [
    "x = Complex{Float64}(1, 2)"
   ]
  },
  {
   "cell_type": "code",
   "execution_count": 64,
   "metadata": {},
   "outputs": [
    {
     "data": {
      "text/plain": [
       "1.0"
      ]
     },
     "execution_count": 64,
     "metadata": {},
     "output_type": "execute_result"
    }
   ],
   "source": [
    "real(x)"
   ]
  },
  {
   "cell_type": "code",
   "execution_count": 65,
   "metadata": {},
   "outputs": [
    {
     "data": {
      "text/plain": [
       "2.0"
      ]
     },
     "execution_count": 65,
     "metadata": {},
     "output_type": "execute_result"
    }
   ],
   "source": [
    "imag(x)"
   ]
  },
  {
   "cell_type": "code",
   "execution_count": 66,
   "metadata": {},
   "outputs": [
    {
     "data": {
      "text/plain": [
       "(1.0, 2.0)"
      ]
     },
     "execution_count": 66,
     "metadata": {},
     "output_type": "execute_result"
    }
   ],
   "source": [
    "reim(x)"
   ]
  },
  {
   "cell_type": "code",
   "execution_count": 67,
   "metadata": {},
   "outputs": [
    {
     "data": {
      "text/plain": [
       "1.0 - 2.0im"
      ]
     },
     "execution_count": 67,
     "metadata": {},
     "output_type": "execute_result"
    }
   ],
   "source": [
    "conj(x)"
   ]
  },
  {
   "cell_type": "code",
   "execution_count": 68,
   "metadata": {},
   "outputs": [
    {
     "data": {
      "text/plain": [
       "2.23606797749979"
      ]
     },
     "execution_count": 68,
     "metadata": {},
     "output_type": "execute_result"
    }
   ],
   "source": [
    "abs(x)"
   ]
  },
  {
   "cell_type": "code",
   "execution_count": 69,
   "metadata": {},
   "outputs": [
    {
     "data": {
      "text/plain": [
       "5.0"
      ]
     },
     "execution_count": 69,
     "metadata": {},
     "output_type": "execute_result"
    }
   ],
   "source": [
    "abs2(x)"
   ]
  },
  {
   "cell_type": "code",
   "execution_count": 70,
   "metadata": {},
   "outputs": [
    {
     "data": {
      "text/plain": [
       "1.1071487177940904"
      ]
     },
     "execution_count": 70,
     "metadata": {},
     "output_type": "execute_result"
    }
   ],
   "source": [
    "angle(x)"
   ]
  },
  {
   "cell_type": "code",
   "execution_count": 71,
   "metadata": {},
   "outputs": [
    {
     "data": {
      "text/plain": [
       "π = 3.1415926535897..."
      ]
     },
     "execution_count": 71,
     "metadata": {},
     "output_type": "execute_result"
    }
   ],
   "source": [
    "# π 為內建的數學常數，將在未來的內容介紹。\n",
    "pi"
   ]
  },
  {
   "cell_type": "code",
   "execution_count": 72,
   "metadata": {},
   "outputs": [
    {
     "data": {
      "text/plain": [
       "Irrational{:π}"
      ]
     },
     "execution_count": 72,
     "metadata": {},
     "output_type": "execute_result"
    }
   ],
   "source": [
    "typeof(pi)"
   ]
  },
  {
   "cell_type": "code",
   "execution_count": 73,
   "metadata": {},
   "outputs": [
    {
     "data": {
      "text/plain": [
       "Irrational{:ℯ}"
      ]
     },
     "execution_count": 73,
     "metadata": {},
     "output_type": "execute_result"
    }
   ],
   "source": [
    "# 歐拉數 (Euler's number)，為內建的數學常數，將在未來的內容介紹。\n",
    "typeof(ℯ)"
   ]
  },
  {
   "cell_type": "code",
   "execution_count": 76,
   "metadata": {},
   "outputs": [
    {
     "name": "stderr",
     "output_type": "stream",
     "text": [
      "\u001b[32m\u001b[1m  Resolving\u001b[22m\u001b[39m package versions...\n",
      "\u001b[32m\u001b[1m   Updating\u001b[22m\u001b[39m `C:\\Users\\Marc Juang\\.julia\\environments\\v1.4\\Project.toml`\n",
      "\u001b[90m [no changes]\u001b[39m\n",
      "\u001b[32m\u001b[1m   Updating\u001b[22m\u001b[39m `C:\\Users\\Marc Juang\\.julia\\environments\\v1.4\\Manifest.toml`\n",
      "\u001b[90m [no changes]\u001b[39m\n"
     ]
    }
   ],
   "source": [
    "# 若未曾安裝 Plots 套件, 請先安裝\n",
    "using Pkg\n",
    "Pkg.add(\"Plots\")"
   ]
  },
  {
   "cell_type": "code",
   "execution_count": 77,
   "metadata": {},
   "outputs": [
    {
     "data": {
      "image/svg+xml": [
       "<?xml version=\"1.0\" encoding=\"utf-8\"?>\n",
       "<svg xmlns=\"http://www.w3.org/2000/svg\" xmlns:xlink=\"http://www.w3.org/1999/xlink\" width=\"600\" height=\"400\" viewBox=\"0 0 2400 1600\">\n",
       "<defs>\n",
       "  <clipPath id=\"clip8200\">\n",
       "    <rect x=\"0\" y=\"0\" width=\"2400\" height=\"1600\"/>\n",
       "  </clipPath>\n",
       "</defs>\n",
       "<path clip-path=\"url(#clip8200)\" d=\"\n",
       "M0 1600 L2400 1600 L2400 0 L0 0  Z\n",
       "  \" fill=\"#ffffff\" fill-rule=\"evenodd\" fill-opacity=\"1\"/>\n",
       "<defs>\n",
       "  <clipPath id=\"clip8201\">\n",
       "    <rect x=\"480\" y=\"0\" width=\"1681\" height=\"1600\"/>\n",
       "  </clipPath>\n",
       "</defs>\n",
       "<path clip-path=\"url(#clip8200)\" d=\"\n",
       "M167.279 1487.47 L2352.76 1487.47 L2352.76 47.2441 L167.279 47.2441  Z\n",
       "  \" fill=\"#ffffff\" fill-rule=\"evenodd\" fill-opacity=\"1\"/>\n",
       "<defs>\n",
       "  <clipPath id=\"clip8202\">\n",
       "    <rect x=\"167\" y=\"47\" width=\"2186\" height=\"1441\"/>\n",
       "  </clipPath>\n",
       "</defs>\n",
       "<polyline clip-path=\"url(#clip8202)\" style=\"stroke:#000000; stroke-width:2; stroke-opacity:0.1; fill:none\" points=\"\n",
       "  287.484,1487.47 287.484,47.2441 \n",
       "  \"/>\n",
       "<polyline clip-path=\"url(#clip8202)\" style=\"stroke:#000000; stroke-width:2; stroke-opacity:0.1; fill:none\" points=\"\n",
       "  773.751,1487.47 773.751,47.2441 \n",
       "  \"/>\n",
       "<polyline clip-path=\"url(#clip8202)\" style=\"stroke:#000000; stroke-width:2; stroke-opacity:0.1; fill:none\" points=\"\n",
       "  1260.02,1487.47 1260.02,47.2441 \n",
       "  \"/>\n",
       "<polyline clip-path=\"url(#clip8202)\" style=\"stroke:#000000; stroke-width:2; stroke-opacity:0.1; fill:none\" points=\"\n",
       "  1746.28,1487.47 1746.28,47.2441 \n",
       "  \"/>\n",
       "<polyline clip-path=\"url(#clip8202)\" style=\"stroke:#000000; stroke-width:2; stroke-opacity:0.1; fill:none\" points=\"\n",
       "  2232.55,1487.47 2232.55,47.2441 \n",
       "  \"/>\n",
       "<polyline clip-path=\"url(#clip8202)\" style=\"stroke:#000000; stroke-width:2; stroke-opacity:0.1; fill:none\" points=\"\n",
       "  167.279,1446.71 2352.76,1446.71 \n",
       "  \"/>\n",
       "<polyline clip-path=\"url(#clip8202)\" style=\"stroke:#000000; stroke-width:2; stroke-opacity:0.1; fill:none\" points=\"\n",
       "  167.279,1156.39 2352.76,1156.39 \n",
       "  \"/>\n",
       "<polyline clip-path=\"url(#clip8202)\" style=\"stroke:#000000; stroke-width:2; stroke-opacity:0.1; fill:none\" points=\"\n",
       "  167.279,866.069 2352.76,866.069 \n",
       "  \"/>\n",
       "<polyline clip-path=\"url(#clip8202)\" style=\"stroke:#000000; stroke-width:2; stroke-opacity:0.1; fill:none\" points=\"\n",
       "  167.279,575.747 2352.76,575.747 \n",
       "  \"/>\n",
       "<polyline clip-path=\"url(#clip8202)\" style=\"stroke:#000000; stroke-width:2; stroke-opacity:0.1; fill:none\" points=\"\n",
       "  167.279,285.424 2352.76,285.424 \n",
       "  \"/>\n",
       "<polyline clip-path=\"url(#clip8200)\" style=\"stroke:#000000; stroke-width:4; stroke-opacity:1; fill:none\" points=\"\n",
       "  167.279,1487.47 2352.76,1487.47 \n",
       "  \"/>\n",
       "<polyline clip-path=\"url(#clip8200)\" style=\"stroke:#000000; stroke-width:4; stroke-opacity:1; fill:none\" points=\"\n",
       "  167.279,1487.47 167.279,47.2441 \n",
       "  \"/>\n",
       "<polyline clip-path=\"url(#clip8200)\" style=\"stroke:#000000; stroke-width:4; stroke-opacity:1; fill:none\" points=\"\n",
       "  287.484,1487.47 287.484,1470.19 \n",
       "  \"/>\n",
       "<polyline clip-path=\"url(#clip8200)\" style=\"stroke:#000000; stroke-width:4; stroke-opacity:1; fill:none\" points=\"\n",
       "  773.751,1487.47 773.751,1470.19 \n",
       "  \"/>\n",
       "<polyline clip-path=\"url(#clip8200)\" style=\"stroke:#000000; stroke-width:4; stroke-opacity:1; fill:none\" points=\"\n",
       "  1260.02,1487.47 1260.02,1470.19 \n",
       "  \"/>\n",
       "<polyline clip-path=\"url(#clip8200)\" style=\"stroke:#000000; stroke-width:4; stroke-opacity:1; fill:none\" points=\"\n",
       "  1746.28,1487.47 1746.28,1470.19 \n",
       "  \"/>\n",
       "<polyline clip-path=\"url(#clip8200)\" style=\"stroke:#000000; stroke-width:4; stroke-opacity:1; fill:none\" points=\"\n",
       "  2232.55,1487.47 2232.55,1470.19 \n",
       "  \"/>\n",
       "<polyline clip-path=\"url(#clip8200)\" style=\"stroke:#000000; stroke-width:4; stroke-opacity:1; fill:none\" points=\"\n",
       "  167.279,1446.71 193.505,1446.71 \n",
       "  \"/>\n",
       "<polyline clip-path=\"url(#clip8200)\" style=\"stroke:#000000; stroke-width:4; stroke-opacity:1; fill:none\" points=\"\n",
       "  167.279,1156.39 193.505,1156.39 \n",
       "  \"/>\n",
       "<polyline clip-path=\"url(#clip8200)\" style=\"stroke:#000000; stroke-width:4; stroke-opacity:1; fill:none\" points=\"\n",
       "  167.279,866.069 193.505,866.069 \n",
       "  \"/>\n",
       "<polyline clip-path=\"url(#clip8200)\" style=\"stroke:#000000; stroke-width:4; stroke-opacity:1; fill:none\" points=\"\n",
       "  167.279,575.747 193.505,575.747 \n",
       "  \"/>\n",
       "<polyline clip-path=\"url(#clip8200)\" style=\"stroke:#000000; stroke-width:4; stroke-opacity:1; fill:none\" points=\"\n",
       "  167.279,285.424 193.505,285.424 \n",
       "  \"/>\n",
       "<g clip-path=\"url(#clip8200)\">\n",
       "<text style=\"fill:#000000; fill-opacity:1; font-family:Arial,Helvetica Neue,Helvetica,sans-serif; font-size:48px; text-anchor:middle;\" transform=\"rotate(0, 287.484, 1541.47)\" x=\"287.484\" y=\"1541.47\">0.00</text>\n",
       "</g>\n",
       "<g clip-path=\"url(#clip8200)\">\n",
       "<text style=\"fill:#000000; fill-opacity:1; font-family:Arial,Helvetica Neue,Helvetica,sans-serif; font-size:48px; text-anchor:middle;\" transform=\"rotate(0, 773.751, 1541.47)\" x=\"773.751\" y=\"1541.47\">0.25</text>\n",
       "</g>\n",
       "<g clip-path=\"url(#clip8200)\">\n",
       "<text style=\"fill:#000000; fill-opacity:1; font-family:Arial,Helvetica Neue,Helvetica,sans-serif; font-size:48px; text-anchor:middle;\" transform=\"rotate(0, 1260.02, 1541.47)\" x=\"1260.02\" y=\"1541.47\">0.50</text>\n",
       "</g>\n",
       "<g clip-path=\"url(#clip8200)\">\n",
       "<text style=\"fill:#000000; fill-opacity:1; font-family:Arial,Helvetica Neue,Helvetica,sans-serif; font-size:48px; text-anchor:middle;\" transform=\"rotate(0, 1746.28, 1541.47)\" x=\"1746.28\" y=\"1541.47\">0.75</text>\n",
       "</g>\n",
       "<g clip-path=\"url(#clip8200)\">\n",
       "<text style=\"fill:#000000; fill-opacity:1; font-family:Arial,Helvetica Neue,Helvetica,sans-serif; font-size:48px; text-anchor:middle;\" transform=\"rotate(0, 2232.55, 1541.47)\" x=\"2232.55\" y=\"1541.47\">1.00</text>\n",
       "</g>\n",
       "<g clip-path=\"url(#clip8200)\">\n",
       "<text style=\"fill:#000000; fill-opacity:1; font-family:Arial,Helvetica Neue,Helvetica,sans-serif; font-size:48px; text-anchor:end;\" transform=\"rotate(0, 143.279, 1464.21)\" x=\"143.279\" y=\"1464.21\">0</text>\n",
       "</g>\n",
       "<g clip-path=\"url(#clip8200)\">\n",
       "<text style=\"fill:#000000; fill-opacity:1; font-family:Arial,Helvetica Neue,Helvetica,sans-serif; font-size:48px; text-anchor:end;\" transform=\"rotate(0, 143.279, 1173.89)\" x=\"143.279\" y=\"1173.89\">25</text>\n",
       "</g>\n",
       "<g clip-path=\"url(#clip8200)\">\n",
       "<text style=\"fill:#000000; fill-opacity:1; font-family:Arial,Helvetica Neue,Helvetica,sans-serif; font-size:48px; text-anchor:end;\" transform=\"rotate(0, 143.279, 883.569)\" x=\"143.279\" y=\"883.569\">50</text>\n",
       "</g>\n",
       "<g clip-path=\"url(#clip8200)\">\n",
       "<text style=\"fill:#000000; fill-opacity:1; font-family:Arial,Helvetica Neue,Helvetica,sans-serif; font-size:48px; text-anchor:end;\" transform=\"rotate(0, 143.279, 593.247)\" x=\"143.279\" y=\"593.247\">75</text>\n",
       "</g>\n",
       "<g clip-path=\"url(#clip8200)\">\n",
       "<text style=\"fill:#000000; fill-opacity:1; font-family:Arial,Helvetica Neue,Helvetica,sans-serif; font-size:48px; text-anchor:end;\" transform=\"rotate(0, 143.279, 302.924)\" x=\"143.279\" y=\"302.924\">100</text>\n",
       "</g>\n",
       "<path clip-path=\"url(#clip8202)\" d=\"\n",
       "M287.484 250.586 L287.484 1446.71 L481.991 1446.71 L481.991 250.586 L287.484 250.586 L287.484 250.586  Z\n",
       "  \" fill=\"#009af9\" fill-rule=\"evenodd\" fill-opacity=\"1\"/>\n",
       "<polyline clip-path=\"url(#clip8202)\" style=\"stroke:#000000; stroke-width:4; stroke-opacity:1; fill:none\" points=\"\n",
       "  287.484,250.586 287.484,1446.71 481.991,1446.71 481.991,250.586 287.484,250.586 \n",
       "  \"/>\n",
       "<path clip-path=\"url(#clip8202)\" d=\"\n",
       "M481.991 273.812 L481.991 1446.71 L676.498 1446.71 L676.498 273.812 L481.991 273.812 L481.991 273.812  Z\n",
       "  \" fill=\"#009af9\" fill-rule=\"evenodd\" fill-opacity=\"1\"/>\n",
       "<polyline clip-path=\"url(#clip8202)\" style=\"stroke:#000000; stroke-width:4; stroke-opacity:1; fill:none\" points=\"\n",
       "  481.991,273.812 481.991,1446.71 676.498,1446.71 676.498,273.812 481.991,273.812 \n",
       "  \"/>\n",
       "<path clip-path=\"url(#clip8202)\" d=\"\n",
       "M676.498 285.424 L676.498 1446.71 L871.004 1446.71 L871.004 285.424 L676.498 285.424 L676.498 285.424  Z\n",
       "  \" fill=\"#009af9\" fill-rule=\"evenodd\" fill-opacity=\"1\"/>\n",
       "<polyline clip-path=\"url(#clip8202)\" style=\"stroke:#000000; stroke-width:4; stroke-opacity:1; fill:none\" points=\"\n",
       "  676.498,285.424 676.498,1446.71 871.004,1446.71 871.004,285.424 676.498,285.424 \n",
       "  \"/>\n",
       "<path clip-path=\"url(#clip8202)\" d=\"\n",
       "M871.004 88.0053 L871.004 1446.71 L1065.51 1446.71 L1065.51 88.0053 L871.004 88.0053 L871.004 88.0053  Z\n",
       "  \" fill=\"#009af9\" fill-rule=\"evenodd\" fill-opacity=\"1\"/>\n",
       "<polyline clip-path=\"url(#clip8202)\" style=\"stroke:#000000; stroke-width:4; stroke-opacity:1; fill:none\" points=\"\n",
       "  871.004,88.0053 871.004,1446.71 1065.51,1446.71 1065.51,88.0053 871.004,88.0053 \n",
       "  \"/>\n",
       "<path clip-path=\"url(#clip8202)\" d=\"\n",
       "M1065.51 564.134 L1065.51 1446.71 L1260.02 1446.71 L1260.02 564.134 L1065.51 564.134 L1065.51 564.134  Z\n",
       "  \" fill=\"#009af9\" fill-rule=\"evenodd\" fill-opacity=\"1\"/>\n",
       "<polyline clip-path=\"url(#clip8202)\" style=\"stroke:#000000; stroke-width:4; stroke-opacity:1; fill:none\" points=\"\n",
       "  1065.51,564.134 1065.51,1446.71 1260.02,1446.71 1260.02,564.134 1065.51,564.134 \n",
       "  \"/>\n",
       "<path clip-path=\"url(#clip8202)\" d=\"\n",
       "M1260.02 157.683 L1260.02 1446.71 L1454.52 1446.71 L1454.52 157.683 L1260.02 157.683 L1260.02 157.683  Z\n",
       "  \" fill=\"#009af9\" fill-rule=\"evenodd\" fill-opacity=\"1\"/>\n",
       "<polyline clip-path=\"url(#clip8202)\" style=\"stroke:#000000; stroke-width:4; stroke-opacity:1; fill:none\" points=\"\n",
       "  1260.02,157.683 1260.02,1446.71 1454.52,1446.71 1454.52,157.683 1260.02,157.683 \n",
       "  \"/>\n",
       "<path clip-path=\"url(#clip8202)\" d=\"\n",
       "M1454.52 111.231 L1454.52 1446.71 L1649.03 1446.71 L1649.03 111.231 L1454.52 111.231 L1454.52 111.231  Z\n",
       "  \" fill=\"#009af9\" fill-rule=\"evenodd\" fill-opacity=\"1\"/>\n",
       "<polyline clip-path=\"url(#clip8202)\" style=\"stroke:#000000; stroke-width:4; stroke-opacity:1; fill:none\" points=\"\n",
       "  1454.52,111.231 1454.52,1446.71 1649.03,1446.71 1649.03,111.231 1454.52,111.231 \n",
       "  \"/>\n",
       "<path clip-path=\"url(#clip8202)\" d=\"\n",
       "M1649.03 401.553 L1649.03 1446.71 L1843.54 1446.71 L1843.54 401.553 L1649.03 401.553 L1649.03 401.553  Z\n",
       "  \" fill=\"#009af9\" fill-rule=\"evenodd\" fill-opacity=\"1\"/>\n",
       "<polyline clip-path=\"url(#clip8202)\" style=\"stroke:#000000; stroke-width:4; stroke-opacity:1; fill:none\" points=\"\n",
       "  1649.03,401.553 1649.03,1446.71 1843.54,1446.71 1843.54,401.553 1649.03,401.553 \n",
       "  \"/>\n",
       "<path clip-path=\"url(#clip8202)\" d=\"\n",
       "M1843.54 366.715 L1843.54 1446.71 L2038.04 1446.71 L2038.04 366.715 L1843.54 366.715 L1843.54 366.715  Z\n",
       "  \" fill=\"#009af9\" fill-rule=\"evenodd\" fill-opacity=\"1\"/>\n",
       "<polyline clip-path=\"url(#clip8202)\" style=\"stroke:#000000; stroke-width:4; stroke-opacity:1; fill:none\" points=\"\n",
       "  1843.54,366.715 1843.54,1446.71 2038.04,1446.71 2038.04,366.715 1843.54,366.715 \n",
       "  \"/>\n",
       "<path clip-path=\"url(#clip8202)\" d=\"\n",
       "M2038.04 355.102 L2038.04 1446.71 L2232.55 1446.71 L2232.55 355.102 L2038.04 355.102 L2038.04 355.102  Z\n",
       "  \" fill=\"#009af9\" fill-rule=\"evenodd\" fill-opacity=\"1\"/>\n",
       "<polyline clip-path=\"url(#clip8202)\" style=\"stroke:#000000; stroke-width:4; stroke-opacity:1; fill:none\" points=\"\n",
       "  2038.04,355.102 2038.04,1446.71 2232.55,1446.71 2232.55,355.102 2038.04,355.102 \n",
       "  \"/>\n",
       "<path clip-path=\"url(#clip8200)\" d=\"\n",
       "M1989.93 251.724 L2280.76 251.724 L2280.76 130.764 L1989.93 130.764  Z\n",
       "  \" fill=\"#ffffff\" fill-rule=\"evenodd\" fill-opacity=\"1\"/>\n",
       "<polyline clip-path=\"url(#clip8200)\" style=\"stroke:#000000; stroke-width:4; stroke-opacity:1; fill:none\" points=\"\n",
       "  1989.93,251.724 2280.76,251.724 2280.76,130.764 1989.93,130.764 1989.93,251.724 \n",
       "  \"/>\n",
       "<path clip-path=\"url(#clip8200)\" d=\"\n",
       "M2013.93 215.436 L2157.93 215.436 L2157.93 167.052 L2013.93 167.052 L2013.93 215.436  Z\n",
       "  \" fill=\"#009af9\" fill-rule=\"evenodd\" fill-opacity=\"1\"/>\n",
       "<polyline clip-path=\"url(#clip8200)\" style=\"stroke:#000000; stroke-width:4; stroke-opacity:1; fill:none\" points=\"\n",
       "  2013.93,215.436 2157.93,215.436 2157.93,167.052 2013.93,167.052 2013.93,215.436 \n",
       "  \"/>\n",
       "<g clip-path=\"url(#clip8200)\">\n",
       "<text style=\"fill:#000000; fill-opacity:1; font-family:Arial,Helvetica Neue,Helvetica,sans-serif; font-size:48px; text-anchor:start;\" transform=\"rotate(0, 2181.93, 208.744)\" x=\"2181.93\" y=\"208.744\">y1</text>\n",
       "</g>\n",
       "</svg>\n"
      ]
     },
     "execution_count": 77,
     "metadata": {},
     "output_type": "execute_result"
    }
   ],
   "source": [
    "using Plots\n",
    "\n",
    "histogram(rand(1000))"
   ]
  },
  {
   "cell_type": "code",
   "execution_count": 78,
   "metadata": {},
   "outputs": [
    {
     "data": {
      "text/plain": [
       "10-element Array{Int64,1}:\n",
       "  5\n",
       " 74\n",
       " 59\n",
       " 39\n",
       " 19\n",
       " 97\n",
       " 45\n",
       " 30\n",
       " 55\n",
       " 56"
      ]
     },
     "execution_count": 78,
     "metadata": {},
     "output_type": "execute_result"
    }
   ],
   "source": [
    "rand(1:100, 10)"
   ]
  },
  {
   "cell_type": "code",
   "execution_count": 79,
   "metadata": {},
   "outputs": [
    {
     "data": {
      "image/svg+xml": [
       "<?xml version=\"1.0\" encoding=\"utf-8\"?>\n",
       "<svg xmlns=\"http://www.w3.org/2000/svg\" xmlns:xlink=\"http://www.w3.org/1999/xlink\" width=\"600\" height=\"400\" viewBox=\"0 0 2400 1600\">\n",
       "<defs>\n",
       "  <clipPath id=\"clip8600\">\n",
       "    <rect x=\"0\" y=\"0\" width=\"2400\" height=\"1600\"/>\n",
       "  </clipPath>\n",
       "</defs>\n",
       "<path clip-path=\"url(#clip8600)\" d=\"\n",
       "M0 1600 L2400 1600 L2400 0 L0 0  Z\n",
       "  \" fill=\"#ffffff\" fill-rule=\"evenodd\" fill-opacity=\"1\"/>\n",
       "<defs>\n",
       "  <clipPath id=\"clip8601\">\n",
       "    <rect x=\"480\" y=\"0\" width=\"1681\" height=\"1600\"/>\n",
       "  </clipPath>\n",
       "</defs>\n",
       "<path clip-path=\"url(#clip8600)\" d=\"\n",
       "M167.279 1487.47 L2352.76 1487.47 L2352.76 47.2441 L167.279 47.2441  Z\n",
       "  \" fill=\"#ffffff\" fill-rule=\"evenodd\" fill-opacity=\"1\"/>\n",
       "<defs>\n",
       "  <clipPath id=\"clip8602\">\n",
       "    <rect x=\"167\" y=\"47\" width=\"2186\" height=\"1441\"/>\n",
       "  </clipPath>\n",
       "</defs>\n",
       "<polyline clip-path=\"url(#clip8602)\" style=\"stroke:#000000; stroke-width:2; stroke-opacity:0.1; fill:none\" points=\"\n",
       "  437.105,1487.47 437.105,47.2441 \n",
       "  \"/>\n",
       "<polyline clip-path=\"url(#clip8602)\" style=\"stroke:#000000; stroke-width:2; stroke-opacity:0.1; fill:none\" points=\"\n",
       "  736.346,1487.47 736.346,47.2441 \n",
       "  \"/>\n",
       "<polyline clip-path=\"url(#clip8602)\" style=\"stroke:#000000; stroke-width:2; stroke-opacity:0.1; fill:none\" points=\"\n",
       "  1035.59,1487.47 1035.59,47.2441 \n",
       "  \"/>\n",
       "<polyline clip-path=\"url(#clip8602)\" style=\"stroke:#000000; stroke-width:2; stroke-opacity:0.1; fill:none\" points=\"\n",
       "  1334.83,1487.47 1334.83,47.2441 \n",
       "  \"/>\n",
       "<polyline clip-path=\"url(#clip8602)\" style=\"stroke:#000000; stroke-width:2; stroke-opacity:0.1; fill:none\" points=\"\n",
       "  1634.07,1487.47 1634.07,47.2441 \n",
       "  \"/>\n",
       "<polyline clip-path=\"url(#clip8602)\" style=\"stroke:#000000; stroke-width:2; stroke-opacity:0.1; fill:none\" points=\"\n",
       "  1933.31,1487.47 1933.31,47.2441 \n",
       "  \"/>\n",
       "<polyline clip-path=\"url(#clip8602)\" style=\"stroke:#000000; stroke-width:2; stroke-opacity:0.1; fill:none\" points=\"\n",
       "  2232.55,1487.47 2232.55,47.2441 \n",
       "  \"/>\n",
       "<polyline clip-path=\"url(#clip8602)\" style=\"stroke:#000000; stroke-width:2; stroke-opacity:0.1; fill:none\" points=\"\n",
       "  167.279,1446.71 2352.76,1446.71 \n",
       "  \"/>\n",
       "<polyline clip-path=\"url(#clip8602)\" style=\"stroke:#000000; stroke-width:2; stroke-opacity:0.1; fill:none\" points=\"\n",
       "  167.279,1094.72 2352.76,1094.72 \n",
       "  \"/>\n",
       "<polyline clip-path=\"url(#clip8602)\" style=\"stroke:#000000; stroke-width:2; stroke-opacity:0.1; fill:none\" points=\"\n",
       "  167.279,742.72 2352.76,742.72 \n",
       "  \"/>\n",
       "<polyline clip-path=\"url(#clip8602)\" style=\"stroke:#000000; stroke-width:2; stroke-opacity:0.1; fill:none\" points=\"\n",
       "  167.279,390.723 2352.76,390.723 \n",
       "  \"/>\n",
       "<polyline clip-path=\"url(#clip8600)\" style=\"stroke:#000000; stroke-width:4; stroke-opacity:1; fill:none\" points=\"\n",
       "  167.279,1487.47 2352.76,1487.47 \n",
       "  \"/>\n",
       "<polyline clip-path=\"url(#clip8600)\" style=\"stroke:#000000; stroke-width:4; stroke-opacity:1; fill:none\" points=\"\n",
       "  167.279,1487.47 167.279,47.2441 \n",
       "  \"/>\n",
       "<polyline clip-path=\"url(#clip8600)\" style=\"stroke:#000000; stroke-width:4; stroke-opacity:1; fill:none\" points=\"\n",
       "  437.105,1487.47 437.105,1470.19 \n",
       "  \"/>\n",
       "<polyline clip-path=\"url(#clip8600)\" style=\"stroke:#000000; stroke-width:4; stroke-opacity:1; fill:none\" points=\"\n",
       "  736.346,1487.47 736.346,1470.19 \n",
       "  \"/>\n",
       "<polyline clip-path=\"url(#clip8600)\" style=\"stroke:#000000; stroke-width:4; stroke-opacity:1; fill:none\" points=\"\n",
       "  1035.59,1487.47 1035.59,1470.19 \n",
       "  \"/>\n",
       "<polyline clip-path=\"url(#clip8600)\" style=\"stroke:#000000; stroke-width:4; stroke-opacity:1; fill:none\" points=\"\n",
       "  1334.83,1487.47 1334.83,1470.19 \n",
       "  \"/>\n",
       "<polyline clip-path=\"url(#clip8600)\" style=\"stroke:#000000; stroke-width:4; stroke-opacity:1; fill:none\" points=\"\n",
       "  1634.07,1487.47 1634.07,1470.19 \n",
       "  \"/>\n",
       "<polyline clip-path=\"url(#clip8600)\" style=\"stroke:#000000; stroke-width:4; stroke-opacity:1; fill:none\" points=\"\n",
       "  1933.31,1487.47 1933.31,1470.19 \n",
       "  \"/>\n",
       "<polyline clip-path=\"url(#clip8600)\" style=\"stroke:#000000; stroke-width:4; stroke-opacity:1; fill:none\" points=\"\n",
       "  2232.55,1487.47 2232.55,1470.19 \n",
       "  \"/>\n",
       "<polyline clip-path=\"url(#clip8600)\" style=\"stroke:#000000; stroke-width:4; stroke-opacity:1; fill:none\" points=\"\n",
       "  167.279,1446.71 193.505,1446.71 \n",
       "  \"/>\n",
       "<polyline clip-path=\"url(#clip8600)\" style=\"stroke:#000000; stroke-width:4; stroke-opacity:1; fill:none\" points=\"\n",
       "  167.279,1094.72 193.505,1094.72 \n",
       "  \"/>\n",
       "<polyline clip-path=\"url(#clip8600)\" style=\"stroke:#000000; stroke-width:4; stroke-opacity:1; fill:none\" points=\"\n",
       "  167.279,742.72 193.505,742.72 \n",
       "  \"/>\n",
       "<polyline clip-path=\"url(#clip8600)\" style=\"stroke:#000000; stroke-width:4; stroke-opacity:1; fill:none\" points=\"\n",
       "  167.279,390.723 193.505,390.723 \n",
       "  \"/>\n",
       "<g clip-path=\"url(#clip8600)\">\n",
       "<text style=\"fill:#000000; fill-opacity:1; font-family:Arial,Helvetica Neue,Helvetica,sans-serif; font-size:48px; text-anchor:middle;\" transform=\"rotate(0, 437.105, 1541.47)\" x=\"437.105\" y=\"1541.47\">-3</text>\n",
       "</g>\n",
       "<g clip-path=\"url(#clip8600)\">\n",
       "<text style=\"fill:#000000; fill-opacity:1; font-family:Arial,Helvetica Neue,Helvetica,sans-serif; font-size:48px; text-anchor:middle;\" transform=\"rotate(0, 736.346, 1541.47)\" x=\"736.346\" y=\"1541.47\">-2</text>\n",
       "</g>\n",
       "<g clip-path=\"url(#clip8600)\">\n",
       "<text style=\"fill:#000000; fill-opacity:1; font-family:Arial,Helvetica Neue,Helvetica,sans-serif; font-size:48px; text-anchor:middle;\" transform=\"rotate(0, 1035.59, 1541.47)\" x=\"1035.59\" y=\"1541.47\">-1</text>\n",
       "</g>\n",
       "<g clip-path=\"url(#clip8600)\">\n",
       "<text style=\"fill:#000000; fill-opacity:1; font-family:Arial,Helvetica Neue,Helvetica,sans-serif; font-size:48px; text-anchor:middle;\" transform=\"rotate(0, 1334.83, 1541.47)\" x=\"1334.83\" y=\"1541.47\">0</text>\n",
       "</g>\n",
       "<g clip-path=\"url(#clip8600)\">\n",
       "<text style=\"fill:#000000; fill-opacity:1; font-family:Arial,Helvetica Neue,Helvetica,sans-serif; font-size:48px; text-anchor:middle;\" transform=\"rotate(0, 1634.07, 1541.47)\" x=\"1634.07\" y=\"1541.47\">1</text>\n",
       "</g>\n",
       "<g clip-path=\"url(#clip8600)\">\n",
       "<text style=\"fill:#000000; fill-opacity:1; font-family:Arial,Helvetica Neue,Helvetica,sans-serif; font-size:48px; text-anchor:middle;\" transform=\"rotate(0, 1933.31, 1541.47)\" x=\"1933.31\" y=\"1541.47\">2</text>\n",
       "</g>\n",
       "<g clip-path=\"url(#clip8600)\">\n",
       "<text style=\"fill:#000000; fill-opacity:1; font-family:Arial,Helvetica Neue,Helvetica,sans-serif; font-size:48px; text-anchor:middle;\" transform=\"rotate(0, 2232.55, 1541.47)\" x=\"2232.55\" y=\"1541.47\">3</text>\n",
       "</g>\n",
       "<g clip-path=\"url(#clip8600)\">\n",
       "<text style=\"fill:#000000; fill-opacity:1; font-family:Arial,Helvetica Neue,Helvetica,sans-serif; font-size:48px; text-anchor:end;\" transform=\"rotate(0, 143.279, 1464.21)\" x=\"143.279\" y=\"1464.21\">0</text>\n",
       "</g>\n",
       "<g clip-path=\"url(#clip8600)\">\n",
       "<text style=\"fill:#000000; fill-opacity:1; font-family:Arial,Helvetica Neue,Helvetica,sans-serif; font-size:48px; text-anchor:end;\" transform=\"rotate(0, 143.279, 1112.22)\" x=\"143.279\" y=\"1112.22\">50</text>\n",
       "</g>\n",
       "<g clip-path=\"url(#clip8600)\">\n",
       "<text style=\"fill:#000000; fill-opacity:1; font-family:Arial,Helvetica Neue,Helvetica,sans-serif; font-size:48px; text-anchor:end;\" transform=\"rotate(0, 143.279, 760.22)\" x=\"143.279\" y=\"760.22\">100</text>\n",
       "</g>\n",
       "<g clip-path=\"url(#clip8600)\">\n",
       "<text style=\"fill:#000000; fill-opacity:1; font-family:Arial,Helvetica Neue,Helvetica,sans-serif; font-size:48px; text-anchor:end;\" transform=\"rotate(0, 143.279, 408.223)\" x=\"143.279\" y=\"408.223\">150</text>\n",
       "</g>\n",
       "<path clip-path=\"url(#clip8602)\" d=\"\n",
       "M287.484 1439.67 L287.484 1446.71 L437.105 1446.71 L437.105 1439.67 L287.484 1439.67 L287.484 1439.67  Z\n",
       "  \" fill=\"#009af9\" fill-rule=\"evenodd\" fill-opacity=\"1\"/>\n",
       "<polyline clip-path=\"url(#clip8602)\" style=\"stroke:#000000; stroke-width:4; stroke-opacity:1; fill:none\" points=\"\n",
       "  287.484,1439.67 287.484,1446.71 437.105,1446.71 437.105,1439.67 287.484,1439.67 \n",
       "  \"/>\n",
       "<path clip-path=\"url(#clip8602)\" d=\"\n",
       "M437.105 1397.43 L437.105 1446.71 L586.725 1446.71 L586.725 1397.43 L437.105 1397.43 L437.105 1397.43  Z\n",
       "  \" fill=\"#009af9\" fill-rule=\"evenodd\" fill-opacity=\"1\"/>\n",
       "<polyline clip-path=\"url(#clip8602)\" style=\"stroke:#000000; stroke-width:4; stroke-opacity:1; fill:none\" points=\"\n",
       "  437.105,1397.43 437.105,1446.71 586.725,1446.71 586.725,1397.43 437.105,1397.43 \n",
       "  \"/>\n",
       "<path clip-path=\"url(#clip8602)\" d=\"\n",
       "M586.725 1355.19 L586.725 1446.71 L736.346 1446.71 L736.346 1355.19 L586.725 1355.19 L586.725 1355.19  Z\n",
       "  \" fill=\"#009af9\" fill-rule=\"evenodd\" fill-opacity=\"1\"/>\n",
       "<polyline clip-path=\"url(#clip8602)\" style=\"stroke:#000000; stroke-width:4; stroke-opacity:1; fill:none\" points=\"\n",
       "  586.725,1355.19 586.725,1446.71 736.346,1446.71 736.346,1355.19 586.725,1355.19 \n",
       "  \"/>\n",
       "<path clip-path=\"url(#clip8602)\" d=\"\n",
       "M736.346 1144 L736.346 1446.71 L885.966 1446.71 L885.966 1144 L736.346 1144 L736.346 1144  Z\n",
       "  \" fill=\"#009af9\" fill-rule=\"evenodd\" fill-opacity=\"1\"/>\n",
       "<polyline clip-path=\"url(#clip8602)\" style=\"stroke:#000000; stroke-width:4; stroke-opacity:1; fill:none\" points=\"\n",
       "  736.346,1144 736.346,1446.71 885.966,1446.71 885.966,1144 736.346,1144 \n",
       "  \"/>\n",
       "<path clip-path=\"url(#clip8602)\" d=\"\n",
       "M885.966 827.199 L885.966 1446.71 L1035.59 1446.71 L1035.59 827.199 L885.966 827.199 L885.966 827.199  Z\n",
       "  \" fill=\"#009af9\" fill-rule=\"evenodd\" fill-opacity=\"1\"/>\n",
       "<polyline clip-path=\"url(#clip8602)\" style=\"stroke:#000000; stroke-width:4; stroke-opacity:1; fill:none\" points=\"\n",
       "  885.966,827.199 885.966,1446.71 1035.59,1446.71 1035.59,827.199 885.966,827.199 \n",
       "  \"/>\n",
       "<path clip-path=\"url(#clip8602)\" d=\"\n",
       "M1035.59 341.443 L1035.59 1446.71 L1185.21 1446.71 L1185.21 341.443 L1035.59 341.443 L1035.59 341.443  Z\n",
       "  \" fill=\"#009af9\" fill-rule=\"evenodd\" fill-opacity=\"1\"/>\n",
       "<polyline clip-path=\"url(#clip8602)\" style=\"stroke:#000000; stroke-width:4; stroke-opacity:1; fill:none\" points=\"\n",
       "  1035.59,341.443 1035.59,1446.71 1185.21,1446.71 1185.21,341.443 1035.59,341.443 \n",
       "  \"/>\n",
       "<path clip-path=\"url(#clip8602)\" d=\"\n",
       "M1185.21 193.604 L1185.21 1446.71 L1334.83 1446.71 L1334.83 193.604 L1185.21 193.604 L1185.21 193.604  Z\n",
       "  \" fill=\"#009af9\" fill-rule=\"evenodd\" fill-opacity=\"1\"/>\n",
       "<polyline clip-path=\"url(#clip8602)\" style=\"stroke:#000000; stroke-width:4; stroke-opacity:1; fill:none\" points=\"\n",
       "  1185.21,193.604 1185.21,1446.71 1334.83,1446.71 1334.83,193.604 1185.21,193.604 \n",
       "  \"/>\n",
       "<path clip-path=\"url(#clip8602)\" d=\"\n",
       "M1334.83 88.0053 L1334.83 1446.71 L1484.45 1446.71 L1484.45 88.0053 L1334.83 88.0053 L1334.83 88.0053  Z\n",
       "  \" fill=\"#009af9\" fill-rule=\"evenodd\" fill-opacity=\"1\"/>\n",
       "<polyline clip-path=\"url(#clip8602)\" style=\"stroke:#000000; stroke-width:4; stroke-opacity:1; fill:none\" points=\"\n",
       "  1334.83,88.0053 1334.83,1446.71 1484.45,1446.71 1484.45,88.0053 1334.83,88.0053 \n",
       "  \"/>\n",
       "<path clip-path=\"url(#clip8602)\" d=\"\n",
       "M1484.45 313.283 L1484.45 1446.71 L1634.07 1446.71 L1634.07 313.283 L1484.45 313.283 L1484.45 313.283  Z\n",
       "  \" fill=\"#009af9\" fill-rule=\"evenodd\" fill-opacity=\"1\"/>\n",
       "<polyline clip-path=\"url(#clip8602)\" style=\"stroke:#000000; stroke-width:4; stroke-opacity:1; fill:none\" points=\"\n",
       "  1484.45,313.283 1484.45,1446.71 1634.07,1446.71 1634.07,313.283 1484.45,313.283 \n",
       "  \"/>\n",
       "<path clip-path=\"url(#clip8602)\" d=\"\n",
       "M1634.07 827.199 L1634.07 1446.71 L1783.69 1446.71 L1783.69 827.199 L1634.07 827.199 L1634.07 827.199  Z\n",
       "  \" fill=\"#009af9\" fill-rule=\"evenodd\" fill-opacity=\"1\"/>\n",
       "<polyline clip-path=\"url(#clip8602)\" style=\"stroke:#000000; stroke-width:4; stroke-opacity:1; fill:none\" points=\"\n",
       "  1634.07,827.199 1634.07,1446.71 1783.69,1446.71 1783.69,827.199 1634.07,827.199 \n",
       "  \"/>\n",
       "<path clip-path=\"url(#clip8602)\" d=\"\n",
       "M1783.69 1115.84 L1783.69 1446.71 L1933.31 1446.71 L1933.31 1115.84 L1783.69 1115.84 L1783.69 1115.84  Z\n",
       "  \" fill=\"#009af9\" fill-rule=\"evenodd\" fill-opacity=\"1\"/>\n",
       "<polyline clip-path=\"url(#clip8602)\" style=\"stroke:#000000; stroke-width:4; stroke-opacity:1; fill:none\" points=\"\n",
       "  1783.69,1115.84 1783.69,1446.71 1933.31,1446.71 1933.31,1115.84 1783.69,1115.84 \n",
       "  \"/>\n",
       "<path clip-path=\"url(#clip8602)\" d=\"\n",
       "M1933.31 1298.87 L1933.31 1446.71 L2082.93 1446.71 L2082.93 1298.87 L1933.31 1298.87 L1933.31 1298.87  Z\n",
       "  \" fill=\"#009af9\" fill-rule=\"evenodd\" fill-opacity=\"1\"/>\n",
       "<polyline clip-path=\"url(#clip8602)\" style=\"stroke:#000000; stroke-width:4; stroke-opacity:1; fill:none\" points=\"\n",
       "  1933.31,1298.87 1933.31,1446.71 2082.93,1446.71 2082.93,1298.87 1933.31,1298.87 \n",
       "  \"/>\n",
       "<path clip-path=\"url(#clip8602)\" d=\"\n",
       "M2082.93 1425.59 L2082.93 1446.71 L2232.55 1446.71 L2232.55 1425.59 L2082.93 1425.59 L2082.93 1425.59  Z\n",
       "  \" fill=\"#009af9\" fill-rule=\"evenodd\" fill-opacity=\"1\"/>\n",
       "<polyline clip-path=\"url(#clip8602)\" style=\"stroke:#000000; stroke-width:4; stroke-opacity:1; fill:none\" points=\"\n",
       "  2082.93,1425.59 2082.93,1446.71 2232.55,1446.71 2232.55,1425.59 2082.93,1425.59 \n",
       "  \"/>\n",
       "<path clip-path=\"url(#clip8600)\" d=\"\n",
       "M1989.93 251.724 L2280.76 251.724 L2280.76 130.764 L1989.93 130.764  Z\n",
       "  \" fill=\"#ffffff\" fill-rule=\"evenodd\" fill-opacity=\"1\"/>\n",
       "<polyline clip-path=\"url(#clip8600)\" style=\"stroke:#000000; stroke-width:4; stroke-opacity:1; fill:none\" points=\"\n",
       "  1989.93,251.724 2280.76,251.724 2280.76,130.764 1989.93,130.764 1989.93,251.724 \n",
       "  \"/>\n",
       "<path clip-path=\"url(#clip8600)\" d=\"\n",
       "M2013.93 215.436 L2157.93 215.436 L2157.93 167.052 L2013.93 167.052 L2013.93 215.436  Z\n",
       "  \" fill=\"#009af9\" fill-rule=\"evenodd\" fill-opacity=\"1\"/>\n",
       "<polyline clip-path=\"url(#clip8600)\" style=\"stroke:#000000; stroke-width:4; stroke-opacity:1; fill:none\" points=\"\n",
       "  2013.93,215.436 2157.93,215.436 2157.93,167.052 2013.93,167.052 2013.93,215.436 \n",
       "  \"/>\n",
       "<g clip-path=\"url(#clip8600)\">\n",
       "<text style=\"fill:#000000; fill-opacity:1; font-family:Arial,Helvetica Neue,Helvetica,sans-serif; font-size:48px; text-anchor:start;\" transform=\"rotate(0, 2181.93, 208.744)\" x=\"2181.93\" y=\"208.744\">y1</text>\n",
       "</g>\n",
       "</svg>\n"
      ]
     },
     "execution_count": 79,
     "metadata": {},
     "output_type": "execute_result"
    }
   ],
   "source": [
    "histogram(randn(1000))"
   ]
  },
  {
   "cell_type": "code",
   "execution_count": 80,
   "metadata": {},
   "outputs": [
    {
     "data": {
      "image/svg+xml": [
       "<?xml version=\"1.0\" encoding=\"utf-8\"?>\n",
       "<svg xmlns=\"http://www.w3.org/2000/svg\" xmlns:xlink=\"http://www.w3.org/1999/xlink\" width=\"600\" height=\"400\" viewBox=\"0 0 2400 1600\">\n",
       "<defs>\n",
       "  <clipPath id=\"clip9000\">\n",
       "    <rect x=\"0\" y=\"0\" width=\"2400\" height=\"1600\"/>\n",
       "  </clipPath>\n",
       "</defs>\n",
       "<path clip-path=\"url(#clip9000)\" d=\"\n",
       "M0 1600 L2400 1600 L2400 0 L0 0  Z\n",
       "  \" fill=\"#ffffff\" fill-rule=\"evenodd\" fill-opacity=\"1\"/>\n",
       "<defs>\n",
       "  <clipPath id=\"clip9001\">\n",
       "    <rect x=\"480\" y=\"0\" width=\"1681\" height=\"1600\"/>\n",
       "  </clipPath>\n",
       "</defs>\n",
       "<path clip-path=\"url(#clip9000)\" d=\"\n",
       "M167.279 1487.47 L2352.76 1487.47 L2352.76 47.2441 L167.279 47.2441  Z\n",
       "  \" fill=\"#ffffff\" fill-rule=\"evenodd\" fill-opacity=\"1\"/>\n",
       "<defs>\n",
       "  <clipPath id=\"clip9002\">\n",
       "    <rect x=\"167\" y=\"47\" width=\"2186\" height=\"1441\"/>\n",
       "  </clipPath>\n",
       "</defs>\n",
       "<polyline clip-path=\"url(#clip9002)\" style=\"stroke:#000000; stroke-width:2; stroke-opacity:0.1; fill:none\" points=\"\n",
       "  287.484,1487.47 287.484,47.2441 \n",
       "  \"/>\n",
       "<polyline clip-path=\"url(#clip9002)\" style=\"stroke:#000000; stroke-width:2; stroke-opacity:0.1; fill:none\" points=\"\n",
       "  813.178,1487.47 813.178,47.2441 \n",
       "  \"/>\n",
       "<polyline clip-path=\"url(#clip9002)\" style=\"stroke:#000000; stroke-width:2; stroke-opacity:0.1; fill:none\" points=\"\n",
       "  1338.87,1487.47 1338.87,47.2441 \n",
       "  \"/>\n",
       "<polyline clip-path=\"url(#clip9002)\" style=\"stroke:#000000; stroke-width:2; stroke-opacity:0.1; fill:none\" points=\"\n",
       "  1864.57,1487.47 1864.57,47.2441 \n",
       "  \"/>\n",
       "<polyline clip-path=\"url(#clip9002)\" style=\"stroke:#000000; stroke-width:2; stroke-opacity:0.1; fill:none\" points=\"\n",
       "  167.279,1446.71 2352.76,1446.71 \n",
       "  \"/>\n",
       "<polyline clip-path=\"url(#clip9002)\" style=\"stroke:#000000; stroke-width:2; stroke-opacity:0.1; fill:none\" points=\"\n",
       "  167.279,1083.42 2352.76,1083.42 \n",
       "  \"/>\n",
       "<polyline clip-path=\"url(#clip9002)\" style=\"stroke:#000000; stroke-width:2; stroke-opacity:0.1; fill:none\" points=\"\n",
       "  167.279,720.132 2352.76,720.132 \n",
       "  \"/>\n",
       "<polyline clip-path=\"url(#clip9002)\" style=\"stroke:#000000; stroke-width:2; stroke-opacity:0.1; fill:none\" points=\"\n",
       "  167.279,356.841 2352.76,356.841 \n",
       "  \"/>\n",
       "<polyline clip-path=\"url(#clip9000)\" style=\"stroke:#000000; stroke-width:4; stroke-opacity:1; fill:none\" points=\"\n",
       "  167.279,1487.47 2352.76,1487.47 \n",
       "  \"/>\n",
       "<polyline clip-path=\"url(#clip9000)\" style=\"stroke:#000000; stroke-width:4; stroke-opacity:1; fill:none\" points=\"\n",
       "  167.279,1487.47 167.279,47.2441 \n",
       "  \"/>\n",
       "<polyline clip-path=\"url(#clip9000)\" style=\"stroke:#000000; stroke-width:4; stroke-opacity:1; fill:none\" points=\"\n",
       "  287.484,1487.47 287.484,1470.19 \n",
       "  \"/>\n",
       "<polyline clip-path=\"url(#clip9000)\" style=\"stroke:#000000; stroke-width:4; stroke-opacity:1; fill:none\" points=\"\n",
       "  813.178,1487.47 813.178,1470.19 \n",
       "  \"/>\n",
       "<polyline clip-path=\"url(#clip9000)\" style=\"stroke:#000000; stroke-width:4; stroke-opacity:1; fill:none\" points=\"\n",
       "  1338.87,1487.47 1338.87,1470.19 \n",
       "  \"/>\n",
       "<polyline clip-path=\"url(#clip9000)\" style=\"stroke:#000000; stroke-width:4; stroke-opacity:1; fill:none\" points=\"\n",
       "  1864.57,1487.47 1864.57,1470.19 \n",
       "  \"/>\n",
       "<polyline clip-path=\"url(#clip9000)\" style=\"stroke:#000000; stroke-width:4; stroke-opacity:1; fill:none\" points=\"\n",
       "  167.279,1446.71 193.505,1446.71 \n",
       "  \"/>\n",
       "<polyline clip-path=\"url(#clip9000)\" style=\"stroke:#000000; stroke-width:4; stroke-opacity:1; fill:none\" points=\"\n",
       "  167.279,1083.42 193.505,1083.42 \n",
       "  \"/>\n",
       "<polyline clip-path=\"url(#clip9000)\" style=\"stroke:#000000; stroke-width:4; stroke-opacity:1; fill:none\" points=\"\n",
       "  167.279,720.132 193.505,720.132 \n",
       "  \"/>\n",
       "<polyline clip-path=\"url(#clip9000)\" style=\"stroke:#000000; stroke-width:4; stroke-opacity:1; fill:none\" points=\"\n",
       "  167.279,356.841 193.505,356.841 \n",
       "  \"/>\n",
       "<g clip-path=\"url(#clip9000)\">\n",
       "<text style=\"fill:#000000; fill-opacity:1; font-family:Arial,Helvetica Neue,Helvetica,sans-serif; font-size:48px; text-anchor:middle;\" transform=\"rotate(0, 287.484, 1541.47)\" x=\"287.484\" y=\"1541.47\">0</text>\n",
       "</g>\n",
       "<g clip-path=\"url(#clip9000)\">\n",
       "<text style=\"fill:#000000; fill-opacity:1; font-family:Arial,Helvetica Neue,Helvetica,sans-serif; font-size:48px; text-anchor:middle;\" transform=\"rotate(0, 813.178, 1541.47)\" x=\"813.178\" y=\"1541.47\">2</text>\n",
       "</g>\n",
       "<g clip-path=\"url(#clip9000)\">\n",
       "<text style=\"fill:#000000; fill-opacity:1; font-family:Arial,Helvetica Neue,Helvetica,sans-serif; font-size:48px; text-anchor:middle;\" transform=\"rotate(0, 1338.87, 1541.47)\" x=\"1338.87\" y=\"1541.47\">4</text>\n",
       "</g>\n",
       "<g clip-path=\"url(#clip9000)\">\n",
       "<text style=\"fill:#000000; fill-opacity:1; font-family:Arial,Helvetica Neue,Helvetica,sans-serif; font-size:48px; text-anchor:middle;\" transform=\"rotate(0, 1864.57, 1541.47)\" x=\"1864.57\" y=\"1541.47\">6</text>\n",
       "</g>\n",
       "<g clip-path=\"url(#clip9000)\">\n",
       "<text style=\"fill:#000000; fill-opacity:1; font-family:Arial,Helvetica Neue,Helvetica,sans-serif; font-size:48px; text-anchor:end;\" transform=\"rotate(0, 143.279, 1464.21)\" x=\"143.279\" y=\"1464.21\">0</text>\n",
       "</g>\n",
       "<g clip-path=\"url(#clip9000)\">\n",
       "<text style=\"fill:#000000; fill-opacity:1; font-family:Arial,Helvetica Neue,Helvetica,sans-serif; font-size:48px; text-anchor:end;\" transform=\"rotate(0, 143.279, 1100.92)\" x=\"143.279\" y=\"1100.92\">50</text>\n",
       "</g>\n",
       "<g clip-path=\"url(#clip9000)\">\n",
       "<text style=\"fill:#000000; fill-opacity:1; font-family:Arial,Helvetica Neue,Helvetica,sans-serif; font-size:48px; text-anchor:end;\" transform=\"rotate(0, 143.279, 737.632)\" x=\"143.279\" y=\"737.632\">100</text>\n",
       "</g>\n",
       "<g clip-path=\"url(#clip9000)\">\n",
       "<text style=\"fill:#000000; fill-opacity:1; font-family:Arial,Helvetica Neue,Helvetica,sans-serif; font-size:48px; text-anchor:end;\" transform=\"rotate(0, 143.279, 374.341)\" x=\"143.279\" y=\"374.341\">150</text>\n",
       "</g>\n",
       "<path clip-path=\"url(#clip9002)\" d=\"\n",
       "M287.484 88.0053 L287.484 1446.71 L340.054 1446.71 L340.054 88.0053 L287.484 88.0053 L287.484 88.0053  Z\n",
       "  \" fill=\"#009af9\" fill-rule=\"evenodd\" fill-opacity=\"1\"/>\n",
       "<polyline clip-path=\"url(#clip9002)\" style=\"stroke:#000000; stroke-width:4; stroke-opacity:1; fill:none\" points=\"\n",
       "  287.484,88.0053 287.484,1446.71 340.054,1446.71 340.054,88.0053 287.484,88.0053 \n",
       "  \"/>\n",
       "<path clip-path=\"url(#clip9002)\" d=\"\n",
       "M340.054 342.309 L340.054 1446.71 L392.623 1446.71 L392.623 342.309 L340.054 342.309 L340.054 342.309  Z\n",
       "  \" fill=\"#009af9\" fill-rule=\"evenodd\" fill-opacity=\"1\"/>\n",
       "<polyline clip-path=\"url(#clip9002)\" style=\"stroke:#000000; stroke-width:4; stroke-opacity:1; fill:none\" points=\"\n",
       "  340.054,342.309 340.054,1446.71 392.623,1446.71 392.623,342.309 340.054,342.309 \n",
       "  \"/>\n",
       "<path clip-path=\"url(#clip9002)\" d=\"\n",
       "M392.623 458.562 L392.623 1446.71 L445.192 1446.71 L445.192 458.562 L392.623 458.562 L392.623 458.562  Z\n",
       "  \" fill=\"#009af9\" fill-rule=\"evenodd\" fill-opacity=\"1\"/>\n",
       "<polyline clip-path=\"url(#clip9002)\" style=\"stroke:#000000; stroke-width:4; stroke-opacity:1; fill:none\" points=\"\n",
       "  392.623,458.562 392.623,1446.71 445.192,1446.71 445.192,458.562 392.623,458.562 \n",
       "  \"/>\n",
       "<path clip-path=\"url(#clip9002)\" d=\"\n",
       "M445.192 836.385 L445.192 1446.71 L497.762 1446.71 L497.762 836.385 L445.192 836.385 L445.192 836.385  Z\n",
       "  \" fill=\"#009af9\" fill-rule=\"evenodd\" fill-opacity=\"1\"/>\n",
       "<polyline clip-path=\"url(#clip9002)\" style=\"stroke:#000000; stroke-width:4; stroke-opacity:1; fill:none\" points=\"\n",
       "  445.192,836.385 445.192,1446.71 497.762,1446.71 497.762,836.385 445.192,836.385 \n",
       "  \"/>\n",
       "<path clip-path=\"url(#clip9002)\" d=\"\n",
       "M497.762 909.043 L497.762 1446.71 L550.331 1446.71 L550.331 909.043 L497.762 909.043 L497.762 909.043  Z\n",
       "  \" fill=\"#009af9\" fill-rule=\"evenodd\" fill-opacity=\"1\"/>\n",
       "<polyline clip-path=\"url(#clip9002)\" style=\"stroke:#000000; stroke-width:4; stroke-opacity:1; fill:none\" points=\"\n",
       "  497.762,909.043 497.762,1446.71 550.331,1446.71 550.331,909.043 497.762,909.043 \n",
       "  \"/>\n",
       "<path clip-path=\"url(#clip9002)\" d=\"\n",
       "M550.331 1003.5 L550.331 1446.71 L602.9 1446.71 L602.9 1003.5 L550.331 1003.5 L550.331 1003.5  Z\n",
       "  \" fill=\"#009af9\" fill-rule=\"evenodd\" fill-opacity=\"1\"/>\n",
       "<polyline clip-path=\"url(#clip9002)\" style=\"stroke:#000000; stroke-width:4; stroke-opacity:1; fill:none\" points=\"\n",
       "  550.331,1003.5 550.331,1446.71 602.9,1446.71 602.9,1003.5 550.331,1003.5 \n",
       "  \"/>\n",
       "<path clip-path=\"url(#clip9002)\" d=\"\n",
       "M602.9 1010.76 L602.9 1446.71 L655.47 1446.71 L655.47 1010.76 L602.9 1010.76 L602.9 1010.76  Z\n",
       "  \" fill=\"#009af9\" fill-rule=\"evenodd\" fill-opacity=\"1\"/>\n",
       "<polyline clip-path=\"url(#clip9002)\" style=\"stroke:#000000; stroke-width:4; stroke-opacity:1; fill:none\" points=\"\n",
       "  602.9,1010.76 602.9,1446.71 655.47,1446.71 655.47,1010.76 602.9,1010.76 \n",
       "  \"/>\n",
       "<path clip-path=\"url(#clip9002)\" d=\"\n",
       "M655.47 1097.95 L655.47 1446.71 L708.039 1446.71 L708.039 1097.95 L655.47 1097.95 L655.47 1097.95  Z\n",
       "  \" fill=\"#009af9\" fill-rule=\"evenodd\" fill-opacity=\"1\"/>\n",
       "<polyline clip-path=\"url(#clip9002)\" style=\"stroke:#000000; stroke-width:4; stroke-opacity:1; fill:none\" points=\"\n",
       "  655.47,1097.95 655.47,1446.71 708.039,1446.71 708.039,1097.95 655.47,1097.95 \n",
       "  \"/>\n",
       "<path clip-path=\"url(#clip9002)\" d=\"\n",
       "M708.039 1199.68 L708.039 1446.71 L760.609 1446.71 L760.609 1199.68 L708.039 1199.68 L708.039 1199.68  Z\n",
       "  \" fill=\"#009af9\" fill-rule=\"evenodd\" fill-opacity=\"1\"/>\n",
       "<polyline clip-path=\"url(#clip9002)\" style=\"stroke:#000000; stroke-width:4; stroke-opacity:1; fill:none\" points=\"\n",
       "  708.039,1199.68 708.039,1446.71 760.609,1446.71 760.609,1199.68 708.039,1199.68 \n",
       "  \"/>\n",
       "<path clip-path=\"url(#clip9002)\" d=\"\n",
       "M760.609 1206.94 L760.609 1446.71 L813.178 1446.71 L813.178 1206.94 L760.609 1206.94 L760.609 1206.94  Z\n",
       "  \" fill=\"#009af9\" fill-rule=\"evenodd\" fill-opacity=\"1\"/>\n",
       "<polyline clip-path=\"url(#clip9002)\" style=\"stroke:#000000; stroke-width:4; stroke-opacity:1; fill:none\" points=\"\n",
       "  760.609,1206.94 760.609,1446.71 813.178,1446.71 813.178,1206.94 760.609,1206.94 \n",
       "  \"/>\n",
       "<path clip-path=\"url(#clip9002)\" d=\"\n",
       "M813.178 1236 L813.178 1446.71 L865.747 1446.71 L865.747 1236 L813.178 1236 L813.178 1236  Z\n",
       "  \" fill=\"#009af9\" fill-rule=\"evenodd\" fill-opacity=\"1\"/>\n",
       "<polyline clip-path=\"url(#clip9002)\" style=\"stroke:#000000; stroke-width:4; stroke-opacity:1; fill:none\" points=\"\n",
       "  813.178,1236 813.178,1446.71 865.747,1446.71 865.747,1236 813.178,1236 \n",
       "  \"/>\n",
       "<path clip-path=\"url(#clip9002)\" d=\"\n",
       "M865.747 1374.06 L865.747 1446.71 L918.317 1446.71 L918.317 1374.06 L865.747 1374.06 L865.747 1374.06  Z\n",
       "  \" fill=\"#009af9\" fill-rule=\"evenodd\" fill-opacity=\"1\"/>\n",
       "<polyline clip-path=\"url(#clip9002)\" style=\"stroke:#000000; stroke-width:4; stroke-opacity:1; fill:none\" points=\"\n",
       "  865.747,1374.06 865.747,1446.71 918.317,1446.71 918.317,1374.06 865.747,1374.06 \n",
       "  \"/>\n",
       "<path clip-path=\"url(#clip9002)\" d=\"\n",
       "M918.317 1294.13 L918.317 1446.71 L970.886 1446.71 L970.886 1294.13 L918.317 1294.13 L918.317 1294.13  Z\n",
       "  \" fill=\"#009af9\" fill-rule=\"evenodd\" fill-opacity=\"1\"/>\n",
       "<polyline clip-path=\"url(#clip9002)\" style=\"stroke:#000000; stroke-width:4; stroke-opacity:1; fill:none\" points=\"\n",
       "  918.317,1294.13 918.317,1446.71 970.886,1446.71 970.886,1294.13 918.317,1294.13 \n",
       "  \"/>\n",
       "<path clip-path=\"url(#clip9002)\" d=\"\n",
       "M970.886 1352.26 L970.886 1446.71 L1023.46 1446.71 L1023.46 1352.26 L970.886 1352.26 L970.886 1352.26  Z\n",
       "  \" fill=\"#009af9\" fill-rule=\"evenodd\" fill-opacity=\"1\"/>\n",
       "<polyline clip-path=\"url(#clip9002)\" style=\"stroke:#000000; stroke-width:4; stroke-opacity:1; fill:none\" points=\"\n",
       "  970.886,1352.26 970.886,1446.71 1023.46,1446.71 1023.46,1352.26 970.886,1352.26 \n",
       "  \"/>\n",
       "<path clip-path=\"url(#clip9002)\" d=\"\n",
       "M1023.46 1337.73 L1023.46 1446.71 L1076.02 1446.71 L1076.02 1337.73 L1023.46 1337.73 L1023.46 1337.73  Z\n",
       "  \" fill=\"#009af9\" fill-rule=\"evenodd\" fill-opacity=\"1\"/>\n",
       "<polyline clip-path=\"url(#clip9002)\" style=\"stroke:#000000; stroke-width:4; stroke-opacity:1; fill:none\" points=\"\n",
       "  1023.46,1337.73 1023.46,1446.71 1076.02,1446.71 1076.02,1337.73 1023.46,1337.73 \n",
       "  \"/>\n",
       "<path clip-path=\"url(#clip9002)\" d=\"\n",
       "M1076.02 1424.92 L1076.02 1446.71 L1128.59 1446.71 L1128.59 1424.92 L1076.02 1424.92 L1076.02 1424.92  Z\n",
       "  \" fill=\"#009af9\" fill-rule=\"evenodd\" fill-opacity=\"1\"/>\n",
       "<polyline clip-path=\"url(#clip9002)\" style=\"stroke:#000000; stroke-width:4; stroke-opacity:1; fill:none\" points=\"\n",
       "  1076.02,1424.92 1076.02,1446.71 1128.59,1446.71 1128.59,1424.92 1076.02,1424.92 \n",
       "  \"/>\n",
       "<path clip-path=\"url(#clip9002)\" d=\"\n",
       "M1128.59 1403.12 L1128.59 1446.71 L1181.16 1446.71 L1181.16 1403.12 L1128.59 1403.12 L1128.59 1403.12  Z\n",
       "  \" fill=\"#009af9\" fill-rule=\"evenodd\" fill-opacity=\"1\"/>\n",
       "<polyline clip-path=\"url(#clip9002)\" style=\"stroke:#000000; stroke-width:4; stroke-opacity:1; fill:none\" points=\"\n",
       "  1128.59,1403.12 1128.59,1446.71 1181.16,1446.71 1181.16,1403.12 1128.59,1403.12 \n",
       "  \"/>\n",
       "<path clip-path=\"url(#clip9002)\" d=\"\n",
       "M1181.16 1366.79 L1181.16 1446.71 L1233.73 1446.71 L1233.73 1366.79 L1181.16 1366.79 L1181.16 1366.79  Z\n",
       "  \" fill=\"#009af9\" fill-rule=\"evenodd\" fill-opacity=\"1\"/>\n",
       "<polyline clip-path=\"url(#clip9002)\" style=\"stroke:#000000; stroke-width:4; stroke-opacity:1; fill:none\" points=\"\n",
       "  1181.16,1366.79 1181.16,1446.71 1233.73,1446.71 1233.73,1366.79 1181.16,1366.79 \n",
       "  \"/>\n",
       "<path clip-path=\"url(#clip9002)\" d=\"\n",
       "M1233.73 1417.65 L1233.73 1446.71 L1286.3 1446.71 L1286.3 1417.65 L1233.73 1417.65 L1233.73 1417.65  Z\n",
       "  \" fill=\"#009af9\" fill-rule=\"evenodd\" fill-opacity=\"1\"/>\n",
       "<polyline clip-path=\"url(#clip9002)\" style=\"stroke:#000000; stroke-width:4; stroke-opacity:1; fill:none\" points=\"\n",
       "  1233.73,1417.65 1233.73,1446.71 1286.3,1446.71 1286.3,1417.65 1233.73,1417.65 \n",
       "  \"/>\n",
       "<path clip-path=\"url(#clip9002)\" d=\"\n",
       "M1286.3 1417.65 L1286.3 1446.71 L1338.87 1446.71 L1338.87 1417.65 L1286.3 1417.65 L1286.3 1417.65  Z\n",
       "  \" fill=\"#009af9\" fill-rule=\"evenodd\" fill-opacity=\"1\"/>\n",
       "<polyline clip-path=\"url(#clip9002)\" style=\"stroke:#000000; stroke-width:4; stroke-opacity:1; fill:none\" points=\"\n",
       "  1286.3,1417.65 1286.3,1446.71 1338.87,1446.71 1338.87,1417.65 1286.3,1417.65 \n",
       "  \"/>\n",
       "<path clip-path=\"url(#clip9002)\" d=\"\n",
       "M1338.87 1432.18 L1338.87 1446.71 L1391.44 1446.71 L1391.44 1432.18 L1338.87 1432.18 L1338.87 1432.18  Z\n",
       "  \" fill=\"#009af9\" fill-rule=\"evenodd\" fill-opacity=\"1\"/>\n",
       "<polyline clip-path=\"url(#clip9002)\" style=\"stroke:#000000; stroke-width:4; stroke-opacity:1; fill:none\" points=\"\n",
       "  1338.87,1432.18 1338.87,1446.71 1391.44,1446.71 1391.44,1432.18 1338.87,1432.18 \n",
       "  \"/>\n",
       "<path clip-path=\"url(#clip9002)\" d=\"\n",
       "M1391.44 1439.45 L1391.44 1446.71 L1444.01 1446.71 L1444.01 1439.45 L1391.44 1439.45 L1391.44 1439.45  Z\n",
       "  \" fill=\"#009af9\" fill-rule=\"evenodd\" fill-opacity=\"1\"/>\n",
       "<polyline clip-path=\"url(#clip9002)\" style=\"stroke:#000000; stroke-width:4; stroke-opacity:1; fill:none\" points=\"\n",
       "  1391.44,1439.45 1391.44,1446.71 1444.01,1446.71 1444.01,1439.45 1391.44,1439.45 \n",
       "  \"/>\n",
       "<path clip-path=\"url(#clip9002)\" d=\"\n",
       "M1444.01 1432.18 L1444.01 1446.71 L1496.58 1446.71 L1496.58 1432.18 L1444.01 1432.18 L1444.01 1432.18  Z\n",
       "  \" fill=\"#009af9\" fill-rule=\"evenodd\" fill-opacity=\"1\"/>\n",
       "<polyline clip-path=\"url(#clip9002)\" style=\"stroke:#000000; stroke-width:4; stroke-opacity:1; fill:none\" points=\"\n",
       "  1444.01,1432.18 1444.01,1446.71 1496.58,1446.71 1496.58,1432.18 1444.01,1432.18 \n",
       "  \"/>\n",
       "<path clip-path=\"url(#clip9002)\" d=\"\n",
       "M1496.58 1439.45 L1496.58 1446.71 L1549.15 1446.71 L1549.15 1439.45 L1496.58 1439.45 L1496.58 1439.45  Z\n",
       "  \" fill=\"#009af9\" fill-rule=\"evenodd\" fill-opacity=\"1\"/>\n",
       "<polyline clip-path=\"url(#clip9002)\" style=\"stroke:#000000; stroke-width:4; stroke-opacity:1; fill:none\" points=\"\n",
       "  1496.58,1439.45 1496.58,1446.71 1549.15,1446.71 1549.15,1439.45 1496.58,1439.45 \n",
       "  \"/>\n",
       "<path clip-path=\"url(#clip9002)\" d=\"\n",
       "M1549.15 1446.71 L1549.15 1446.71 L1601.72 1446.71 L1601.72 1446.71 L1549.15 1446.71 L1549.15 1446.71  Z\n",
       "  \" fill=\"#009af9\" fill-rule=\"evenodd\" fill-opacity=\"1\"/>\n",
       "<polyline clip-path=\"url(#clip9002)\" style=\"stroke:#000000; stroke-width:4; stroke-opacity:1; fill:none\" points=\"\n",
       "  1549.15,1446.71 1549.15,1446.71 1601.72,1446.71 1549.15,1446.71 \n",
       "  \"/>\n",
       "<path clip-path=\"url(#clip9002)\" d=\"\n",
       "M1601.72 1439.45 L1601.72 1446.71 L1654.29 1446.71 L1654.29 1439.45 L1601.72 1439.45 L1601.72 1439.45  Z\n",
       "  \" fill=\"#009af9\" fill-rule=\"evenodd\" fill-opacity=\"1\"/>\n",
       "<polyline clip-path=\"url(#clip9002)\" style=\"stroke:#000000; stroke-width:4; stroke-opacity:1; fill:none\" points=\"\n",
       "  1601.72,1439.45 1601.72,1446.71 1654.29,1446.71 1654.29,1439.45 1601.72,1439.45 \n",
       "  \"/>\n",
       "<path clip-path=\"url(#clip9002)\" d=\"\n",
       "M1654.29 1432.18 L1654.29 1446.71 L1706.86 1446.71 L1706.86 1432.18 L1654.29 1432.18 L1654.29 1432.18  Z\n",
       "  \" fill=\"#009af9\" fill-rule=\"evenodd\" fill-opacity=\"1\"/>\n",
       "<polyline clip-path=\"url(#clip9002)\" style=\"stroke:#000000; stroke-width:4; stroke-opacity:1; fill:none\" points=\"\n",
       "  1654.29,1432.18 1654.29,1446.71 1706.86,1446.71 1706.86,1432.18 1654.29,1432.18 \n",
       "  \"/>\n",
       "<path clip-path=\"url(#clip9002)\" d=\"\n",
       "M1706.86 1446.71 L1706.86 1446.71 L1759.43 1446.71 L1759.43 1446.71 L1706.86 1446.71 L1706.86 1446.71  Z\n",
       "  \" fill=\"#009af9\" fill-rule=\"evenodd\" fill-opacity=\"1\"/>\n",
       "<polyline clip-path=\"url(#clip9002)\" style=\"stroke:#000000; stroke-width:4; stroke-opacity:1; fill:none\" points=\"\n",
       "  1706.86,1446.71 1706.86,1446.71 1759.43,1446.71 1706.86,1446.71 \n",
       "  \"/>\n",
       "<path clip-path=\"url(#clip9002)\" d=\"\n",
       "M1759.43 1446.71 L1759.43 1446.71 L1812 1446.71 L1812 1446.71 L1759.43 1446.71 L1759.43 1446.71  Z\n",
       "  \" fill=\"#009af9\" fill-rule=\"evenodd\" fill-opacity=\"1\"/>\n",
       "<polyline clip-path=\"url(#clip9002)\" style=\"stroke:#000000; stroke-width:4; stroke-opacity:1; fill:none\" points=\"\n",
       "  1759.43,1446.71 1759.43,1446.71 1812,1446.71 1759.43,1446.71 \n",
       "  \"/>\n",
       "<path clip-path=\"url(#clip9002)\" d=\"\n",
       "M1812 1432.18 L1812 1446.71 L1864.57 1446.71 L1864.57 1432.18 L1812 1432.18 L1812 1432.18  Z\n",
       "  \" fill=\"#009af9\" fill-rule=\"evenodd\" fill-opacity=\"1\"/>\n",
       "<polyline clip-path=\"url(#clip9002)\" style=\"stroke:#000000; stroke-width:4; stroke-opacity:1; fill:none\" points=\"\n",
       "  1812,1432.18 1812,1446.71 1864.57,1446.71 1864.57,1432.18 1812,1432.18 \n",
       "  \"/>\n",
       "<path clip-path=\"url(#clip9002)\" d=\"\n",
       "M1864.57 1446.71 L1864.57 1446.71 L1917.13 1446.71 L1917.13 1446.71 L1864.57 1446.71 L1864.57 1446.71  Z\n",
       "  \" fill=\"#009af9\" fill-rule=\"evenodd\" fill-opacity=\"1\"/>\n",
       "<polyline clip-path=\"url(#clip9002)\" style=\"stroke:#000000; stroke-width:4; stroke-opacity:1; fill:none\" points=\"\n",
       "  1864.57,1446.71 1864.57,1446.71 1917.13,1446.71 1864.57,1446.71 \n",
       "  \"/>\n",
       "<path clip-path=\"url(#clip9002)\" d=\"\n",
       "M1917.13 1446.71 L1917.13 1446.71 L1969.7 1446.71 L1969.7 1446.71 L1917.13 1446.71 L1917.13 1446.71  Z\n",
       "  \" fill=\"#009af9\" fill-rule=\"evenodd\" fill-opacity=\"1\"/>\n",
       "<polyline clip-path=\"url(#clip9002)\" style=\"stroke:#000000; stroke-width:4; stroke-opacity:1; fill:none\" points=\"\n",
       "  1917.13,1446.71 1917.13,1446.71 1969.7,1446.71 1917.13,1446.71 \n",
       "  \"/>\n",
       "<path clip-path=\"url(#clip9002)\" d=\"\n",
       "M1969.7 1439.45 L1969.7 1446.71 L2022.27 1446.71 L2022.27 1439.45 L1969.7 1439.45 L1969.7 1439.45  Z\n",
       "  \" fill=\"#009af9\" fill-rule=\"evenodd\" fill-opacity=\"1\"/>\n",
       "<polyline clip-path=\"url(#clip9002)\" style=\"stroke:#000000; stroke-width:4; stroke-opacity:1; fill:none\" points=\"\n",
       "  1969.7,1439.45 1969.7,1446.71 2022.27,1446.71 2022.27,1439.45 1969.7,1439.45 \n",
       "  \"/>\n",
       "<path clip-path=\"url(#clip9002)\" d=\"\n",
       "M2022.27 1446.71 L2022.27 1446.71 L2074.84 1446.71 L2074.84 1446.71 L2022.27 1446.71 L2022.27 1446.71  Z\n",
       "  \" fill=\"#009af9\" fill-rule=\"evenodd\" fill-opacity=\"1\"/>\n",
       "<polyline clip-path=\"url(#clip9002)\" style=\"stroke:#000000; stroke-width:4; stroke-opacity:1; fill:none\" points=\"\n",
       "  2022.27,1446.71 2022.27,1446.71 2074.84,1446.71 2022.27,1446.71 \n",
       "  \"/>\n",
       "<path clip-path=\"url(#clip9002)\" d=\"\n",
       "M2074.84 1446.71 L2074.84 1446.71 L2127.41 1446.71 L2127.41 1446.71 L2074.84 1446.71 L2074.84 1446.71  Z\n",
       "  \" fill=\"#009af9\" fill-rule=\"evenodd\" fill-opacity=\"1\"/>\n",
       "<polyline clip-path=\"url(#clip9002)\" style=\"stroke:#000000; stroke-width:4; stroke-opacity:1; fill:none\" points=\"\n",
       "  2074.84,1446.71 2074.84,1446.71 2127.41,1446.71 2074.84,1446.71 \n",
       "  \"/>\n",
       "<path clip-path=\"url(#clip9002)\" d=\"\n",
       "M2127.41 1446.71 L2127.41 1446.71 L2179.98 1446.71 L2179.98 1446.71 L2127.41 1446.71 L2127.41 1446.71  Z\n",
       "  \" fill=\"#009af9\" fill-rule=\"evenodd\" fill-opacity=\"1\"/>\n",
       "<polyline clip-path=\"url(#clip9002)\" style=\"stroke:#000000; stroke-width:4; stroke-opacity:1; fill:none\" points=\"\n",
       "  2127.41,1446.71 2127.41,1446.71 2179.98,1446.71 2127.41,1446.71 \n",
       "  \"/>\n",
       "<path clip-path=\"url(#clip9002)\" d=\"\n",
       "M2179.98 1424.92 L2179.98 1446.71 L2232.55 1446.71 L2232.55 1424.92 L2179.98 1424.92 L2179.98 1424.92  Z\n",
       "  \" fill=\"#009af9\" fill-rule=\"evenodd\" fill-opacity=\"1\"/>\n",
       "<polyline clip-path=\"url(#clip9002)\" style=\"stroke:#000000; stroke-width:4; stroke-opacity:1; fill:none\" points=\"\n",
       "  2179.98,1424.92 2179.98,1446.71 2232.55,1446.71 2232.55,1424.92 2179.98,1424.92 \n",
       "  \"/>\n",
       "<path clip-path=\"url(#clip9000)\" d=\"\n",
       "M1989.93 251.724 L2280.76 251.724 L2280.76 130.764 L1989.93 130.764  Z\n",
       "  \" fill=\"#ffffff\" fill-rule=\"evenodd\" fill-opacity=\"1\"/>\n",
       "<polyline clip-path=\"url(#clip9000)\" style=\"stroke:#000000; stroke-width:4; stroke-opacity:1; fill:none\" points=\"\n",
       "  1989.93,251.724 2280.76,251.724 2280.76,130.764 1989.93,130.764 1989.93,251.724 \n",
       "  \"/>\n",
       "<path clip-path=\"url(#clip9000)\" d=\"\n",
       "M2013.93 215.436 L2157.93 215.436 L2157.93 167.052 L2013.93 167.052 L2013.93 215.436  Z\n",
       "  \" fill=\"#009af9\" fill-rule=\"evenodd\" fill-opacity=\"1\"/>\n",
       "<polyline clip-path=\"url(#clip9000)\" style=\"stroke:#000000; stroke-width:4; stroke-opacity:1; fill:none\" points=\"\n",
       "  2013.93,215.436 2157.93,215.436 2157.93,167.052 2013.93,167.052 2013.93,215.436 \n",
       "  \"/>\n",
       "<g clip-path=\"url(#clip9000)\">\n",
       "<text style=\"fill:#000000; fill-opacity:1; font-family:Arial,Helvetica Neue,Helvetica,sans-serif; font-size:48px; text-anchor:start;\" transform=\"rotate(0, 2181.93, 208.744)\" x=\"2181.93\" y=\"208.744\">y1</text>\n",
       "</g>\n",
       "</svg>\n"
      ]
     },
     "execution_count": 80,
     "metadata": {},
     "output_type": "execute_result"
    }
   ],
   "source": [
    "using Random\n",
    "\n",
    "histogram(randexp(1000))"
   ]
  },
  {
   "cell_type": "code",
   "execution_count": null,
   "metadata": {},
   "outputs": [],
   "source": []
  }
 ],
 "metadata": {
  "kernelspec": {
   "display_name": "Julia 1.4.0",
   "language": "julia",
   "name": "julia-1.4"
  },
  "language_info": {
   "file_extension": ".jl",
   "mimetype": "application/julia",
   "name": "julia",
   "version": "1.4.0"
  }
 },
 "nbformat": 4,
 "nbformat_minor": 2
}
