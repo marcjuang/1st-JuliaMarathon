{
 "cells": [
  {
   "cell_type": "markdown",
   "metadata": {},
   "source": [
    "# Julia 深度學習：可微分程式設計\n",
    "\n",
    "## 作業 031：對神經網路層微分\n",
    "\n",
    "請自行撰寫一個型別，型別代表神經網路的一層運算，並且對它微分。神經網路層的一般式如下：\n",
    "\n",
    "$$\n",
    "y = \\sigma (Wx + b)\n",
    "$$\n",
    "\n",
    "其中 `W` 為參數矩陣，`b` 為參數向量，`x` 為輸入向量，`y` 為輸出向量。要取得向量的微分值，需要將向量縮減為純量，如下：\n",
    "\n",
    "```\n",
    "gradient(x -> sum(y), 1)\n",
    "```"
   ]
  },
  {
   "cell_type": "code",
   "execution_count": 1,
   "metadata": {},
   "outputs": [],
   "source": [
    "using Zygote"
   ]
  },
  {
   "cell_type": "code",
   "execution_count": 3,
   "metadata": {},
   "outputs": [],
   "source": [
    "mutable struct Layer\n",
    "    W::Matrix\n",
    "    b::Vector\n",
    "end"
   ]
  },
  {
   "cell_type": "code",
   "execution_count": 11,
   "metadata": {},
   "outputs": [],
   "source": [
    "(y::Layer)(x) = identity(y.W*x + y.b)"
   ]
  },
  {
   "cell_type": "code",
   "execution_count": 12,
   "metadata": {},
   "outputs": [
    {
     "data": {
      "text/plain": [
       "Layer([0.6048158393998584 0.44608621122332015 0.758904369620603 0.7174307549505738; 0.13998428610488856 0.9250086271983498 0.28755714566282764 0.693108017901289; 0.5478444231346433 0.9313397483287147 0.39636022125565296 0.15119903953729597], [0.9697591330572444, 0.36427335285599827, 0.43587552132015106])"
      ]
     },
     "execution_count": 12,
     "metadata": {},
     "output_type": "execute_result"
    }
   ],
   "source": [
    "y = Layer(rand(3, 4), rand(3))"
   ]
  },
  {
   "cell_type": "code",
   "execution_count": 13,
   "metadata": {},
   "outputs": [
    {
     "data": {
      "text/plain": [
       "3-element Array{Float64,1}:\n",
       " 2.7443717146970177\n",
       " 1.8256754615313737\n",
       " 1.905219532526694"
      ]
     },
     "execution_count": 13,
     "metadata": {},
     "output_type": "execute_result"
    }
   ],
   "source": [
    "y(rand(4))"
   ]
  },
  {
   "cell_type": "code",
   "execution_count": 14,
   "metadata": {},
   "outputs": [
    {
     "data": {
      "text/plain": [
       "([1.2926445486393903, 2.3024345867503846, 1.4428217365390836, 1.5617378123891588],)"
      ]
     },
     "execution_count": 14,
     "metadata": {},
     "output_type": "execute_result"
    }
   ],
   "source": [
    "gradient(x -> sum(y(x)), rand(4))"
   ]
  },
  {
   "cell_type": "code",
   "execution_count": null,
   "metadata": {},
   "outputs": [],
   "source": []
  },
  {
   "cell_type": "code",
   "execution_count": null,
   "metadata": {},
   "outputs": [],
   "source": []
  }
 ],
 "metadata": {
  "kernelspec": {
   "display_name": "Julia 1.4.0",
   "language": "julia",
   "name": "julia-1.4"
  },
  "language_info": {
   "file_extension": ".jl",
   "mimetype": "application/julia",
   "name": "julia",
   "version": "1.4.0"
  }
 },
 "nbformat": 4,
 "nbformat_minor": 4
}
